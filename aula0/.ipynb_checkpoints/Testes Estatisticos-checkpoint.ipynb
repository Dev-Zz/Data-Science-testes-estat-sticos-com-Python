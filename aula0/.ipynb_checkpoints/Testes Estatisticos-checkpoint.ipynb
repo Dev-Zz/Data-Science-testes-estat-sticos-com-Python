{
 "cells": [
  {
   "cell_type": "markdown",
   "id": "f3a31f56-1320-4396-93d0-3e39cb5a867e",
   "metadata": {},
   "source": [
    "# Analisando dados do TMDB 5000"
   ]
  },
  {
   "cell_type": "code",
   "execution_count": 1,
   "id": "5e55f7d4-4a02-4198-ac23-55af9d51d03d",
   "metadata": {},
   "outputs": [
    {
     "data": {
      "text/html": [
       "<div>\n",
       "<style scoped>\n",
       "    .dataframe tbody tr th:only-of-type {\n",
       "        vertical-align: middle;\n",
       "    }\n",
       "\n",
       "    .dataframe tbody tr th {\n",
       "        vertical-align: top;\n",
       "    }\n",
       "\n",
       "    .dataframe thead th {\n",
       "        text-align: right;\n",
       "    }\n",
       "</style>\n",
       "<table border=\"1\" class=\"dataframe\">\n",
       "  <thead>\n",
       "    <tr style=\"text-align: right;\">\n",
       "      <th></th>\n",
       "      <th>budget</th>\n",
       "      <th>genres</th>\n",
       "      <th>homepage</th>\n",
       "      <th>id</th>\n",
       "      <th>keywords</th>\n",
       "      <th>original_language</th>\n",
       "      <th>original_title</th>\n",
       "      <th>overview</th>\n",
       "      <th>popularity</th>\n",
       "      <th>production_companies</th>\n",
       "      <th>production_countries</th>\n",
       "      <th>release_date</th>\n",
       "      <th>revenue</th>\n",
       "      <th>runtime</th>\n",
       "      <th>spoken_languages</th>\n",
       "      <th>status</th>\n",
       "      <th>tagline</th>\n",
       "      <th>title</th>\n",
       "      <th>vote_average</th>\n",
       "      <th>vote_count</th>\n",
       "    </tr>\n",
       "  </thead>\n",
       "  <tbody>\n",
       "    <tr>\n",
       "      <th>0</th>\n",
       "      <td>237000000</td>\n",
       "      <td>[{\"id\": 28, \"name\": \"Action\"}, {\"id\": 12, \"nam...</td>\n",
       "      <td>http://www.avatarmovie.com/</td>\n",
       "      <td>19995</td>\n",
       "      <td>[{\"id\": 1463, \"name\": \"culture clash\"}, {\"id\":...</td>\n",
       "      <td>en</td>\n",
       "      <td>Avatar</td>\n",
       "      <td>In the 22nd century, a paraplegic Marine is di...</td>\n",
       "      <td>150.437577</td>\n",
       "      <td>[{\"name\": \"Ingenious Film Partners\", \"id\": 289...</td>\n",
       "      <td>[{\"iso_3166_1\": \"US\", \"name\": \"United States o...</td>\n",
       "      <td>2009-12-10</td>\n",
       "      <td>2787965087</td>\n",
       "      <td>162.0</td>\n",
       "      <td>[{\"iso_639_1\": \"en\", \"name\": \"English\"}, {\"iso...</td>\n",
       "      <td>Released</td>\n",
       "      <td>Enter the World of Pandora.</td>\n",
       "      <td>Avatar</td>\n",
       "      <td>7.2</td>\n",
       "      <td>11800</td>\n",
       "    </tr>\n",
       "    <tr>\n",
       "      <th>1</th>\n",
       "      <td>300000000</td>\n",
       "      <td>[{\"id\": 12, \"name\": \"Adventure\"}, {\"id\": 14, \"...</td>\n",
       "      <td>http://disney.go.com/disneypictures/pirates/</td>\n",
       "      <td>285</td>\n",
       "      <td>[{\"id\": 270, \"name\": \"ocean\"}, {\"id\": 726, \"na...</td>\n",
       "      <td>en</td>\n",
       "      <td>Pirates of the Caribbean: At World's End</td>\n",
       "      <td>Captain Barbossa, long believed to be dead, ha...</td>\n",
       "      <td>139.082615</td>\n",
       "      <td>[{\"name\": \"Walt Disney Pictures\", \"id\": 2}, {\"...</td>\n",
       "      <td>[{\"iso_3166_1\": \"US\", \"name\": \"United States o...</td>\n",
       "      <td>2007-05-19</td>\n",
       "      <td>961000000</td>\n",
       "      <td>169.0</td>\n",
       "      <td>[{\"iso_639_1\": \"en\", \"name\": \"English\"}]</td>\n",
       "      <td>Released</td>\n",
       "      <td>At the end of the world, the adventure begins.</td>\n",
       "      <td>Pirates of the Caribbean: At World's End</td>\n",
       "      <td>6.9</td>\n",
       "      <td>4500</td>\n",
       "    </tr>\n",
       "    <tr>\n",
       "      <th>2</th>\n",
       "      <td>245000000</td>\n",
       "      <td>[{\"id\": 28, \"name\": \"Action\"}, {\"id\": 12, \"nam...</td>\n",
       "      <td>http://www.sonypictures.com/movies/spectre/</td>\n",
       "      <td>206647</td>\n",
       "      <td>[{\"id\": 470, \"name\": \"spy\"}, {\"id\": 818, \"name...</td>\n",
       "      <td>en</td>\n",
       "      <td>Spectre</td>\n",
       "      <td>A cryptic message from Bond’s past sends him o...</td>\n",
       "      <td>107.376788</td>\n",
       "      <td>[{\"name\": \"Columbia Pictures\", \"id\": 5}, {\"nam...</td>\n",
       "      <td>[{\"iso_3166_1\": \"GB\", \"name\": \"United Kingdom\"...</td>\n",
       "      <td>2015-10-26</td>\n",
       "      <td>880674609</td>\n",
       "      <td>148.0</td>\n",
       "      <td>[{\"iso_639_1\": \"fr\", \"name\": \"Fran\\u00e7ais\"},...</td>\n",
       "      <td>Released</td>\n",
       "      <td>A Plan No One Escapes</td>\n",
       "      <td>Spectre</td>\n",
       "      <td>6.3</td>\n",
       "      <td>4466</td>\n",
       "    </tr>\n",
       "    <tr>\n",
       "      <th>3</th>\n",
       "      <td>250000000</td>\n",
       "      <td>[{\"id\": 28, \"name\": \"Action\"}, {\"id\": 80, \"nam...</td>\n",
       "      <td>http://www.thedarkknightrises.com/</td>\n",
       "      <td>49026</td>\n",
       "      <td>[{\"id\": 849, \"name\": \"dc comics\"}, {\"id\": 853,...</td>\n",
       "      <td>en</td>\n",
       "      <td>The Dark Knight Rises</td>\n",
       "      <td>Following the death of District Attorney Harve...</td>\n",
       "      <td>112.312950</td>\n",
       "      <td>[{\"name\": \"Legendary Pictures\", \"id\": 923}, {\"...</td>\n",
       "      <td>[{\"iso_3166_1\": \"US\", \"name\": \"United States o...</td>\n",
       "      <td>2012-07-16</td>\n",
       "      <td>1084939099</td>\n",
       "      <td>165.0</td>\n",
       "      <td>[{\"iso_639_1\": \"en\", \"name\": \"English\"}]</td>\n",
       "      <td>Released</td>\n",
       "      <td>The Legend Ends</td>\n",
       "      <td>The Dark Knight Rises</td>\n",
       "      <td>7.6</td>\n",
       "      <td>9106</td>\n",
       "    </tr>\n",
       "    <tr>\n",
       "      <th>4</th>\n",
       "      <td>260000000</td>\n",
       "      <td>[{\"id\": 28, \"name\": \"Action\"}, {\"id\": 12, \"nam...</td>\n",
       "      <td>http://movies.disney.com/john-carter</td>\n",
       "      <td>49529</td>\n",
       "      <td>[{\"id\": 818, \"name\": \"based on novel\"}, {\"id\":...</td>\n",
       "      <td>en</td>\n",
       "      <td>John Carter</td>\n",
       "      <td>John Carter is a war-weary, former military ca...</td>\n",
       "      <td>43.926995</td>\n",
       "      <td>[{\"name\": \"Walt Disney Pictures\", \"id\": 2}]</td>\n",
       "      <td>[{\"iso_3166_1\": \"US\", \"name\": \"United States o...</td>\n",
       "      <td>2012-03-07</td>\n",
       "      <td>284139100</td>\n",
       "      <td>132.0</td>\n",
       "      <td>[{\"iso_639_1\": \"en\", \"name\": \"English\"}]</td>\n",
       "      <td>Released</td>\n",
       "      <td>Lost in our world, found in another.</td>\n",
       "      <td>John Carter</td>\n",
       "      <td>6.1</td>\n",
       "      <td>2124</td>\n",
       "    </tr>\n",
       "  </tbody>\n",
       "</table>\n",
       "</div>"
      ],
      "text/plain": [
       "      budget                                             genres  \\\n",
       "0  237000000  [{\"id\": 28, \"name\": \"Action\"}, {\"id\": 12, \"nam...   \n",
       "1  300000000  [{\"id\": 12, \"name\": \"Adventure\"}, {\"id\": 14, \"...   \n",
       "2  245000000  [{\"id\": 28, \"name\": \"Action\"}, {\"id\": 12, \"nam...   \n",
       "3  250000000  [{\"id\": 28, \"name\": \"Action\"}, {\"id\": 80, \"nam...   \n",
       "4  260000000  [{\"id\": 28, \"name\": \"Action\"}, {\"id\": 12, \"nam...   \n",
       "\n",
       "                                       homepage      id  \\\n",
       "0                   http://www.avatarmovie.com/   19995   \n",
       "1  http://disney.go.com/disneypictures/pirates/     285   \n",
       "2   http://www.sonypictures.com/movies/spectre/  206647   \n",
       "3            http://www.thedarkknightrises.com/   49026   \n",
       "4          http://movies.disney.com/john-carter   49529   \n",
       "\n",
       "                                            keywords original_language  \\\n",
       "0  [{\"id\": 1463, \"name\": \"culture clash\"}, {\"id\":...                en   \n",
       "1  [{\"id\": 270, \"name\": \"ocean\"}, {\"id\": 726, \"na...                en   \n",
       "2  [{\"id\": 470, \"name\": \"spy\"}, {\"id\": 818, \"name...                en   \n",
       "3  [{\"id\": 849, \"name\": \"dc comics\"}, {\"id\": 853,...                en   \n",
       "4  [{\"id\": 818, \"name\": \"based on novel\"}, {\"id\":...                en   \n",
       "\n",
       "                             original_title  \\\n",
       "0                                    Avatar   \n",
       "1  Pirates of the Caribbean: At World's End   \n",
       "2                                   Spectre   \n",
       "3                     The Dark Knight Rises   \n",
       "4                               John Carter   \n",
       "\n",
       "                                            overview  popularity  \\\n",
       "0  In the 22nd century, a paraplegic Marine is di...  150.437577   \n",
       "1  Captain Barbossa, long believed to be dead, ha...  139.082615   \n",
       "2  A cryptic message from Bond’s past sends him o...  107.376788   \n",
       "3  Following the death of District Attorney Harve...  112.312950   \n",
       "4  John Carter is a war-weary, former military ca...   43.926995   \n",
       "\n",
       "                                production_companies  \\\n",
       "0  [{\"name\": \"Ingenious Film Partners\", \"id\": 289...   \n",
       "1  [{\"name\": \"Walt Disney Pictures\", \"id\": 2}, {\"...   \n",
       "2  [{\"name\": \"Columbia Pictures\", \"id\": 5}, {\"nam...   \n",
       "3  [{\"name\": \"Legendary Pictures\", \"id\": 923}, {\"...   \n",
       "4        [{\"name\": \"Walt Disney Pictures\", \"id\": 2}]   \n",
       "\n",
       "                                production_countries release_date     revenue  \\\n",
       "0  [{\"iso_3166_1\": \"US\", \"name\": \"United States o...   2009-12-10  2787965087   \n",
       "1  [{\"iso_3166_1\": \"US\", \"name\": \"United States o...   2007-05-19   961000000   \n",
       "2  [{\"iso_3166_1\": \"GB\", \"name\": \"United Kingdom\"...   2015-10-26   880674609   \n",
       "3  [{\"iso_3166_1\": \"US\", \"name\": \"United States o...   2012-07-16  1084939099   \n",
       "4  [{\"iso_3166_1\": \"US\", \"name\": \"United States o...   2012-03-07   284139100   \n",
       "\n",
       "   runtime                                   spoken_languages    status  \\\n",
       "0    162.0  [{\"iso_639_1\": \"en\", \"name\": \"English\"}, {\"iso...  Released   \n",
       "1    169.0           [{\"iso_639_1\": \"en\", \"name\": \"English\"}]  Released   \n",
       "2    148.0  [{\"iso_639_1\": \"fr\", \"name\": \"Fran\\u00e7ais\"},...  Released   \n",
       "3    165.0           [{\"iso_639_1\": \"en\", \"name\": \"English\"}]  Released   \n",
       "4    132.0           [{\"iso_639_1\": \"en\", \"name\": \"English\"}]  Released   \n",
       "\n",
       "                                          tagline  \\\n",
       "0                     Enter the World of Pandora.   \n",
       "1  At the end of the world, the adventure begins.   \n",
       "2                           A Plan No One Escapes   \n",
       "3                                 The Legend Ends   \n",
       "4            Lost in our world, found in another.   \n",
       "\n",
       "                                      title  vote_average  vote_count  \n",
       "0                                    Avatar           7.2       11800  \n",
       "1  Pirates of the Caribbean: At World's End           6.9        4500  \n",
       "2                                   Spectre           6.3        4466  \n",
       "3                     The Dark Knight Rises           7.6        9106  \n",
       "4                               John Carter           6.1        2124  "
      ]
     },
     "execution_count": 1,
     "metadata": {},
     "output_type": "execute_result"
    }
   ],
   "source": [
    "import pandas as pd\n",
    "tmdb = pd.read_csv('tmdb_5000_movies.csv')\n",
    "tmdb.head()"
   ]
  },
  {
   "cell_type": "code",
   "execution_count": 2,
   "id": "e04b82d6-1faf-4bc6-9977-55f9c5760574",
   "metadata": {},
   "outputs": [
    {
     "data": {
      "text/html": [
       "<div>\n",
       "<style scoped>\n",
       "    .dataframe tbody tr th:only-of-type {\n",
       "        vertical-align: middle;\n",
       "    }\n",
       "\n",
       "    .dataframe tbody tr th {\n",
       "        vertical-align: top;\n",
       "    }\n",
       "\n",
       "    .dataframe thead th {\n",
       "        text-align: right;\n",
       "    }\n",
       "</style>\n",
       "<table border=\"1\" class=\"dataframe\">\n",
       "  <thead>\n",
       "    <tr style=\"text-align: right;\">\n",
       "      <th></th>\n",
       "      <th>budget</th>\n",
       "      <th>id</th>\n",
       "      <th>popularity</th>\n",
       "      <th>revenue</th>\n",
       "      <th>runtime</th>\n",
       "      <th>vote_average</th>\n",
       "      <th>vote_count</th>\n",
       "    </tr>\n",
       "  </thead>\n",
       "  <tbody>\n",
       "    <tr>\n",
       "      <th>count</th>\n",
       "      <td>4.803000e+03</td>\n",
       "      <td>4803.000000</td>\n",
       "      <td>4803.000000</td>\n",
       "      <td>4.803000e+03</td>\n",
       "      <td>4801.000000</td>\n",
       "      <td>4803.000000</td>\n",
       "      <td>4803.000000</td>\n",
       "    </tr>\n",
       "    <tr>\n",
       "      <th>mean</th>\n",
       "      <td>2.904504e+07</td>\n",
       "      <td>57165.484281</td>\n",
       "      <td>21.492301</td>\n",
       "      <td>8.226064e+07</td>\n",
       "      <td>106.875859</td>\n",
       "      <td>6.092172</td>\n",
       "      <td>690.217989</td>\n",
       "    </tr>\n",
       "    <tr>\n",
       "      <th>std</th>\n",
       "      <td>4.072239e+07</td>\n",
       "      <td>88694.614033</td>\n",
       "      <td>31.816650</td>\n",
       "      <td>1.628571e+08</td>\n",
       "      <td>22.611935</td>\n",
       "      <td>1.194612</td>\n",
       "      <td>1234.585891</td>\n",
       "    </tr>\n",
       "    <tr>\n",
       "      <th>min</th>\n",
       "      <td>0.000000e+00</td>\n",
       "      <td>5.000000</td>\n",
       "      <td>0.000000</td>\n",
       "      <td>0.000000e+00</td>\n",
       "      <td>0.000000</td>\n",
       "      <td>0.000000</td>\n",
       "      <td>0.000000</td>\n",
       "    </tr>\n",
       "    <tr>\n",
       "      <th>25%</th>\n",
       "      <td>7.900000e+05</td>\n",
       "      <td>9014.500000</td>\n",
       "      <td>4.668070</td>\n",
       "      <td>0.000000e+00</td>\n",
       "      <td>94.000000</td>\n",
       "      <td>5.600000</td>\n",
       "      <td>54.000000</td>\n",
       "    </tr>\n",
       "    <tr>\n",
       "      <th>50%</th>\n",
       "      <td>1.500000e+07</td>\n",
       "      <td>14629.000000</td>\n",
       "      <td>12.921594</td>\n",
       "      <td>1.917000e+07</td>\n",
       "      <td>103.000000</td>\n",
       "      <td>6.200000</td>\n",
       "      <td>235.000000</td>\n",
       "    </tr>\n",
       "    <tr>\n",
       "      <th>75%</th>\n",
       "      <td>4.000000e+07</td>\n",
       "      <td>58610.500000</td>\n",
       "      <td>28.313505</td>\n",
       "      <td>9.291719e+07</td>\n",
       "      <td>118.000000</td>\n",
       "      <td>6.800000</td>\n",
       "      <td>737.000000</td>\n",
       "    </tr>\n",
       "    <tr>\n",
       "      <th>max</th>\n",
       "      <td>3.800000e+08</td>\n",
       "      <td>459488.000000</td>\n",
       "      <td>875.581305</td>\n",
       "      <td>2.787965e+09</td>\n",
       "      <td>338.000000</td>\n",
       "      <td>10.000000</td>\n",
       "      <td>13752.000000</td>\n",
       "    </tr>\n",
       "  </tbody>\n",
       "</table>\n",
       "</div>"
      ],
      "text/plain": [
       "             budget             id   popularity       revenue      runtime  \\\n",
       "count  4.803000e+03    4803.000000  4803.000000  4.803000e+03  4801.000000   \n",
       "mean   2.904504e+07   57165.484281    21.492301  8.226064e+07   106.875859   \n",
       "std    4.072239e+07   88694.614033    31.816650  1.628571e+08    22.611935   \n",
       "min    0.000000e+00       5.000000     0.000000  0.000000e+00     0.000000   \n",
       "25%    7.900000e+05    9014.500000     4.668070  0.000000e+00    94.000000   \n",
       "50%    1.500000e+07   14629.000000    12.921594  1.917000e+07   103.000000   \n",
       "75%    4.000000e+07   58610.500000    28.313505  9.291719e+07   118.000000   \n",
       "max    3.800000e+08  459488.000000   875.581305  2.787965e+09   338.000000   \n",
       "\n",
       "       vote_average    vote_count  \n",
       "count   4803.000000   4803.000000  \n",
       "mean       6.092172    690.217989  \n",
       "std        1.194612   1234.585891  \n",
       "min        0.000000      0.000000  \n",
       "25%        5.600000     54.000000  \n",
       "50%        6.200000    235.000000  \n",
       "75%        6.800000    737.000000  \n",
       "max       10.000000  13752.000000  "
      ]
     },
     "execution_count": 2,
     "metadata": {},
     "output_type": "execute_result"
    }
   ],
   "source": [
    "tmdb.describe()"
   ]
  },
  {
   "cell_type": "code",
   "execution_count": 3,
   "id": "8114b6c9-a0de-4c4a-b754-da98d87850fe",
   "metadata": {},
   "outputs": [],
   "source": [
    "import seaborn as sns"
   ]
  },
  {
   "cell_type": "code",
   "execution_count": 10,
   "id": "70388d7f-bcc5-4b54-bb2f-950c2c82fbc3",
   "metadata": {},
   "outputs": [
    {
     "name": "stderr",
     "output_type": "stream",
     "text": [
      "C:\\Users\\Jose Eduardo\\AppData\\Local\\Programs\\Python\\Python310\\lib\\site-packages\\seaborn\\distributions.py:2619: FutureWarning: `distplot` is a deprecated function and will be removed in a future version. Please adapt your code to use either `displot` (a figure-level function with similar flexibility) or `histplot` (an axes-level function for histograms).\n",
      "  warnings.warn(msg, FutureWarning)\n"
     ]
    },
    {
     "data": {
      "text/plain": [
       "Text(0.5, 1.0, 'Média de votos em filmes do TMDB 5000')"
      ]
     },
     "execution_count": 10,
     "metadata": {},
     "output_type": "execute_result"
    },
    {
     "data": {
      "image/png": "[encoded data removed]",
      "text/plain": [
       "<Figure size 432x288 with 1 Axes>"
      ]
     },
     "metadata": {
      "needs_background": "light"
     },
     "output_type": "display_data"
    }
   ],
   "source": [
    "ax = sns.distplot(tmdb.vote_average, norm_hist=False, kde=False)\n",
    "ax.set(xlabel = \"Nota Média\", ylabel = \"Frequência\")\n",
    "ax.set_title(\"Média de votos em filmes do TMDB 5000\")\n"
   ]
  },
  {
   "cell_type": "code",
   "execution_count": 14,
   "id": "f20e9c55-0bb0-406c-aba3-646aacfcc284",
   "metadata": {},
   "outputs": [
    {
     "data": {
      "text/plain": [
       "<AxesSubplot:xlabel='vote_average'>"
      ]
     },
     "execution_count": 14,
     "metadata": {},
     "output_type": "execute_result"
    },
    {
     "data": {
      "image/png": "[encoded data removed]",
      "text/plain": [
       "<Figure size 432x288 with 1 Axes>"
      ]
     },
     "metadata": {
      "needs_background": "light"
     },
     "output_type": "display_data"
    }
   ],
   "source": [
    "sns.boxplot(x=tmdb.vote_average)"
   ]
  },
  {
   "cell_type": "markdown",
   "id": "54c411a3-31bc-46c8-b43c-e1d4ee9976ef",
   "metadata": {},
   "source": [
    "**Tem algo estranho com o conjunto de dados, não faz sentido filmes onde a 'nota média' é 0 ou 10...**"
   ]
  },
  {
   "cell_type": "code",
   "execution_count": 24,
   "id": "2aca61ca-642a-412e-bafa-89c9706f8ce5",
   "metadata": {},
   "outputs": [
    {
     "data": {
      "text/html": [
       "<div>\n",
       "<style scoped>\n",
       "    .dataframe tbody tr th:only-of-type {\n",
       "        vertical-align: middle;\n",
       "    }\n",
       "\n",
       "    .dataframe tbody tr th {\n",
       "        vertical-align: top;\n",
       "    }\n",
       "\n",
       "    .dataframe thead th {\n",
       "        text-align: right;\n",
       "    }\n",
       "</style>\n",
       "<table border=\"1\" class=\"dataframe\">\n",
       "  <thead>\n",
       "    <tr style=\"text-align: right;\">\n",
       "      <th></th>\n",
       "      <th>budget</th>\n",
       "      <th>genres</th>\n",
       "      <th>homepage</th>\n",
       "      <th>id</th>\n",
       "      <th>keywords</th>\n",
       "      <th>original_language</th>\n",
       "      <th>original_title</th>\n",
       "      <th>overview</th>\n",
       "      <th>popularity</th>\n",
       "      <th>production_companies</th>\n",
       "      <th>production_countries</th>\n",
       "      <th>release_date</th>\n",
       "      <th>revenue</th>\n",
       "      <th>runtime</th>\n",
       "      <th>spoken_languages</th>\n",
       "      <th>status</th>\n",
       "      <th>tagline</th>\n",
       "      <th>title</th>\n",
       "      <th>vote_average</th>\n",
       "      <th>vote_count</th>\n",
       "    </tr>\n",
       "  </thead>\n",
       "  <tbody>\n",
       "    <tr>\n",
       "      <th>1464</th>\n",
       "      <td>0</td>\n",
       "      <td>[{\"id\": 18, \"name\": \"Drama\"}, {\"id\": 80, \"name...</td>\n",
       "      <td>NaN</td>\n",
       "      <td>310706</td>\n",
       "      <td>[]</td>\n",
       "      <td>en</td>\n",
       "      <td>Black Water Transit</td>\n",
       "      <td>In this action thriller set in post-Katrina Ne...</td>\n",
       "      <td>0.126738</td>\n",
       "      <td>[{\"name\": \"Capitol Films\", \"id\": 826}]</td>\n",
       "      <td>[{\"iso_3166_1\": \"US\", \"name\": \"United States o...</td>\n",
       "      <td>2009-05-13</td>\n",
       "      <td>0</td>\n",
       "      <td>100.0</td>\n",
       "      <td>[{\"iso_639_1\": \"en\", \"name\": \"English\"}]</td>\n",
       "      <td>Released</td>\n",
       "      <td>NaN</td>\n",
       "      <td>Black Water Transit</td>\n",
       "      <td>0.0</td>\n",
       "      <td>0</td>\n",
       "    </tr>\n",
       "    <tr>\n",
       "      <th>3669</th>\n",
       "      <td>0</td>\n",
       "      <td>[{\"id\": 35, \"name\": \"Comedy\"}, {\"id\": 18, \"nam...</td>\n",
       "      <td>http://www.romeothemovie.com/</td>\n",
       "      <td>113406</td>\n",
       "      <td>[]</td>\n",
       "      <td>en</td>\n",
       "      <td>Should've Been Romeo</td>\n",
       "      <td>A self-centered, middle-aged pitchman for a po...</td>\n",
       "      <td>0.407030</td>\n",
       "      <td>[{\"name\": \"Phillybrook Films\", \"id\": 65147}]</td>\n",
       "      <td>[{\"iso_3166_1\": \"US\", \"name\": \"United States o...</td>\n",
       "      <td>2012-04-28</td>\n",
       "      <td>0</td>\n",
       "      <td>0.0</td>\n",
       "      <td>[{\"iso_639_1\": \"en\", \"name\": \"English\"}]</td>\n",
       "      <td>Released</td>\n",
       "      <td>Even Shakespeare didn't see this one coming.</td>\n",
       "      <td>Should've Been Romeo</td>\n",
       "      <td>0.0</td>\n",
       "      <td>0</td>\n",
       "    </tr>\n",
       "    <tr>\n",
       "      <th>3670</th>\n",
       "      <td>0</td>\n",
       "      <td>[{\"id\": 10751, \"name\": \"Family\"}]</td>\n",
       "      <td>NaN</td>\n",
       "      <td>447027</td>\n",
       "      <td>[]</td>\n",
       "      <td>en</td>\n",
       "      <td>Running Forever</td>\n",
       "      <td>After being estranged since her mother's death...</td>\n",
       "      <td>0.028756</td>\n",
       "      <td>[{\"name\": \"New Kingdom Pictures\", \"id\": 41671}]</td>\n",
       "      <td>[{\"iso_3166_1\": \"US\", \"name\": \"United States o...</td>\n",
       "      <td>2015-10-27</td>\n",
       "      <td>0</td>\n",
       "      <td>88.0</td>\n",
       "      <td>[]</td>\n",
       "      <td>Released</td>\n",
       "      <td>NaN</td>\n",
       "      <td>Running Forever</td>\n",
       "      <td>0.0</td>\n",
       "      <td>0</td>\n",
       "    </tr>\n",
       "    <tr>\n",
       "      <th>3852</th>\n",
       "      <td>0</td>\n",
       "      <td>[{\"id\": 18, \"name\": \"Drama\"}]</td>\n",
       "      <td>NaN</td>\n",
       "      <td>395766</td>\n",
       "      <td>[{\"id\": 11162, \"name\": \"miniseries\"}]</td>\n",
       "      <td>en</td>\n",
       "      <td>The Secret</td>\n",
       "      <td>The Secret is the story of a real-life double ...</td>\n",
       "      <td>0.042346</td>\n",
       "      <td>[]</td>\n",
       "      <td>[]</td>\n",
       "      <td>2016-04-29</td>\n",
       "      <td>0</td>\n",
       "      <td>200.0</td>\n",
       "      <td>[]</td>\n",
       "      <td>Released</td>\n",
       "      <td>NaN</td>\n",
       "      <td>The Secret</td>\n",
       "      <td>0.0</td>\n",
       "      <td>0</td>\n",
       "    </tr>\n",
       "    <tr>\n",
       "      <th>3855</th>\n",
       "      <td>3500000</td>\n",
       "      <td>[{\"id\": 99, \"name\": \"Documentary\"}]</td>\n",
       "      <td>http://www.timetochoose.com</td>\n",
       "      <td>370662</td>\n",
       "      <td>[{\"id\": 2210, \"name\": \"climate change\"}, {\"id\"...</td>\n",
       "      <td>en</td>\n",
       "      <td>Time to Choose</td>\n",
       "      <td>Academy Award® winning director Charles Fergus...</td>\n",
       "      <td>1.618138</td>\n",
       "      <td>[{\"name\": \"Representational Pictures\", \"id\": 8...</td>\n",
       "      <td>[{\"iso_3166_1\": \"US\", \"name\": \"United States o...</td>\n",
       "      <td>2015-09-04</td>\n",
       "      <td>0</td>\n",
       "      <td>100.0</td>\n",
       "      <td>[{\"iso_639_1\": \"en\", \"name\": \"English\"}]</td>\n",
       "      <td>Released</td>\n",
       "      <td>Climate change for good.</td>\n",
       "      <td>Time to Choose</td>\n",
       "      <td>0.0</td>\n",
       "      <td>0</td>\n",
       "    </tr>\n",
       "    <tr>\n",
       "      <th>...</th>\n",
       "      <td>...</td>\n",
       "      <td>...</td>\n",
       "      <td>...</td>\n",
       "      <td>...</td>\n",
       "      <td>...</td>\n",
       "      <td>...</td>\n",
       "      <td>...</td>\n",
       "      <td>...</td>\n",
       "      <td>...</td>\n",
       "      <td>...</td>\n",
       "      <td>...</td>\n",
       "      <td>...</td>\n",
       "      <td>...</td>\n",
       "      <td>...</td>\n",
       "      <td>...</td>\n",
       "      <td>...</td>\n",
       "      <td>...</td>\n",
       "      <td>...</td>\n",
       "      <td>...</td>\n",
       "      <td>...</td>\n",
       "    </tr>\n",
       "    <tr>\n",
       "      <th>4769</th>\n",
       "      <td>0</td>\n",
       "      <td>[{\"id\": 28, \"name\": \"Action\"}, {\"id\": 37, \"nam...</td>\n",
       "      <td>NaN</td>\n",
       "      <td>69382</td>\n",
       "      <td>[]</td>\n",
       "      <td>en</td>\n",
       "      <td>The Legend of God's Gun</td>\n",
       "      <td>A gun-slinging preacher returns to the debauch...</td>\n",
       "      <td>0.003582</td>\n",
       "      <td>[]</td>\n",
       "      <td>[]</td>\n",
       "      <td>2007-07-08</td>\n",
       "      <td>0</td>\n",
       "      <td>78.0</td>\n",
       "      <td>[]</td>\n",
       "      <td>Released</td>\n",
       "      <td>NaN</td>\n",
       "      <td>The Legend of God's Gun</td>\n",
       "      <td>0.0</td>\n",
       "      <td>0</td>\n",
       "    </tr>\n",
       "    <tr>\n",
       "      <th>4771</th>\n",
       "      <td>0</td>\n",
       "      <td>[{\"id\": 27, \"name\": \"Horror\"}]</td>\n",
       "      <td>NaN</td>\n",
       "      <td>220490</td>\n",
       "      <td>[]</td>\n",
       "      <td>en</td>\n",
       "      <td>Her Cry: La Llorona Investigation</td>\n",
       "      <td>Crew of \"Paranormal Legends\" went to film thei...</td>\n",
       "      <td>0.056459</td>\n",
       "      <td>[]</td>\n",
       "      <td>[]</td>\n",
       "      <td>2013-04-19</td>\n",
       "      <td>0</td>\n",
       "      <td>89.0</td>\n",
       "      <td>[]</td>\n",
       "      <td>Released</td>\n",
       "      <td>NaN</td>\n",
       "      <td>Her Cry: La Llorona Investigation</td>\n",
       "      <td>0.0</td>\n",
       "      <td>0</td>\n",
       "    </tr>\n",
       "    <tr>\n",
       "      <th>4780</th>\n",
       "      <td>0</td>\n",
       "      <td>[{\"id\": 53, \"name\": \"Thriller\"}, {\"id\": 80, \"n...</td>\n",
       "      <td>NaN</td>\n",
       "      <td>366967</td>\n",
       "      <td>[]</td>\n",
       "      <td>en</td>\n",
       "      <td>Dutch Kills</td>\n",
       "      <td>A desperate ex-con is forced to gather his old...</td>\n",
       "      <td>0.038143</td>\n",
       "      <td>[]</td>\n",
       "      <td>[]</td>\n",
       "      <td>2015-10-02</td>\n",
       "      <td>0</td>\n",
       "      <td>90.0</td>\n",
       "      <td>[]</td>\n",
       "      <td>Released</td>\n",
       "      <td>NaN</td>\n",
       "      <td>Dutch Kills</td>\n",
       "      <td>0.0</td>\n",
       "      <td>0</td>\n",
       "    </tr>\n",
       "    <tr>\n",
       "      <th>4785</th>\n",
       "      <td>0</td>\n",
       "      <td>[{\"id\": 18, \"name\": \"Drama\"}]</td>\n",
       "      <td>NaN</td>\n",
       "      <td>287625</td>\n",
       "      <td>[]</td>\n",
       "      <td>en</td>\n",
       "      <td>Stories of Our Lives</td>\n",
       "      <td>Created by the members of a Nairobi-based arts...</td>\n",
       "      <td>0.327794</td>\n",
       "      <td>[]</td>\n",
       "      <td>[{\"iso_3166_1\": \"KE\", \"name\": \"Kenya\"}]</td>\n",
       "      <td>2014-09-05</td>\n",
       "      <td>0</td>\n",
       "      <td>60.0</td>\n",
       "      <td>[{\"iso_639_1\": \"sw\", \"name\": \"Kiswahili\"}, {\"i...</td>\n",
       "      <td>Released</td>\n",
       "      <td>NaN</td>\n",
       "      <td>Stories of Our Lives</td>\n",
       "      <td>0.0</td>\n",
       "      <td>0</td>\n",
       "    </tr>\n",
       "    <tr>\n",
       "      <th>4794</th>\n",
       "      <td>0</td>\n",
       "      <td>[{\"id\": 53, \"name\": \"Thriller\"}, {\"id\": 27, \"n...</td>\n",
       "      <td>NaN</td>\n",
       "      <td>286939</td>\n",
       "      <td>[]</td>\n",
       "      <td>en</td>\n",
       "      <td>Sanctuary: Quite a Conundrum</td>\n",
       "      <td>It should have been just a normal day of sex, ...</td>\n",
       "      <td>0.166513</td>\n",
       "      <td>[{\"name\": \"Gold Lion Films\", \"id\": 37870}, {\"n...</td>\n",
       "      <td>[{\"iso_3166_1\": \"US\", \"name\": \"United States o...</td>\n",
       "      <td>2012-01-20</td>\n",
       "      <td>0</td>\n",
       "      <td>82.0</td>\n",
       "      <td>[{\"iso_639_1\": \"en\", \"name\": \"English\"}]</td>\n",
       "      <td>Released</td>\n",
       "      <td>NaN</td>\n",
       "      <td>Sanctuary: Quite a Conundrum</td>\n",
       "      <td>0.0</td>\n",
       "      <td>0</td>\n",
       "    </tr>\n",
       "  </tbody>\n",
       "</table>\n",
       "<p>63 rows × 20 columns</p>\n",
       "</div>"
      ],
      "text/plain": [
       "       budget                                             genres  \\\n",
       "1464        0  [{\"id\": 18, \"name\": \"Drama\"}, {\"id\": 80, \"name...   \n",
       "3669        0  [{\"id\": 35, \"name\": \"Comedy\"}, {\"id\": 18, \"nam...   \n",
       "3670        0                  [{\"id\": 10751, \"name\": \"Family\"}]   \n",
       "3852        0                      [{\"id\": 18, \"name\": \"Drama\"}]   \n",
       "3855  3500000                [{\"id\": 99, \"name\": \"Documentary\"}]   \n",
       "...       ...                                                ...   \n",
       "4769        0  [{\"id\": 28, \"name\": \"Action\"}, {\"id\": 37, \"nam...   \n",
       "4771        0                     [{\"id\": 27, \"name\": \"Horror\"}]   \n",
       "4780        0  [{\"id\": 53, \"name\": \"Thriller\"}, {\"id\": 80, \"n...   \n",
       "4785        0                      [{\"id\": 18, \"name\": \"Drama\"}]   \n",
       "4794        0  [{\"id\": 53, \"name\": \"Thriller\"}, {\"id\": 27, \"n...   \n",
       "\n",
       "                           homepage      id  \\\n",
       "1464                            NaN  310706   \n",
       "3669  http://www.romeothemovie.com/  113406   \n",
       "3670                            NaN  447027   \n",
       "3852                            NaN  395766   \n",
       "3855    http://www.timetochoose.com  370662   \n",
       "...                             ...     ...   \n",
       "4769                            NaN   69382   \n",
       "4771                            NaN  220490   \n",
       "4780                            NaN  366967   \n",
       "4785                            NaN  287625   \n",
       "4794                            NaN  286939   \n",
       "\n",
       "                                               keywords original_language  \\\n",
       "1464                                                 []                en   \n",
       "3669                                                 []                en   \n",
       "3670                                                 []                en   \n",
       "3852              [{\"id\": 11162, \"name\": \"miniseries\"}]                en   \n",
       "3855  [{\"id\": 2210, \"name\": \"climate change\"}, {\"id\"...                en   \n",
       "...                                                 ...               ...   \n",
       "4769                                                 []                en   \n",
       "4771                                                 []                en   \n",
       "4780                                                 []                en   \n",
       "4785                                                 []                en   \n",
       "4794                                                 []                en   \n",
       "\n",
       "                         original_title  \\\n",
       "1464                Black Water Transit   \n",
       "3669               Should've Been Romeo   \n",
       "3670                    Running Forever   \n",
       "3852                         The Secret   \n",
       "3855                     Time to Choose   \n",
       "...                                 ...   \n",
       "4769            The Legend of God's Gun   \n",
       "4771  Her Cry: La Llorona Investigation   \n",
       "4780                        Dutch Kills   \n",
       "4785               Stories of Our Lives   \n",
       "4794       Sanctuary: Quite a Conundrum   \n",
       "\n",
       "                                               overview  popularity  \\\n",
       "1464  In this action thriller set in post-Katrina Ne...    0.126738   \n",
       "3669  A self-centered, middle-aged pitchman for a po...    0.407030   \n",
       "3670  After being estranged since her mother's death...    0.028756   \n",
       "3852  The Secret is the story of a real-life double ...    0.042346   \n",
       "3855  Academy Award® winning director Charles Fergus...    1.618138   \n",
       "...                                                 ...         ...   \n",
       "4769  A gun-slinging preacher returns to the debauch...    0.003582   \n",
       "4771  Crew of \"Paranormal Legends\" went to film thei...    0.056459   \n",
       "4780  A desperate ex-con is forced to gather his old...    0.038143   \n",
       "4785  Created by the members of a Nairobi-based arts...    0.327794   \n",
       "4794  It should have been just a normal day of sex, ...    0.166513   \n",
       "\n",
       "                                   production_companies  \\\n",
       "1464             [{\"name\": \"Capitol Films\", \"id\": 826}]   \n",
       "3669       [{\"name\": \"Phillybrook Films\", \"id\": 65147}]   \n",
       "3670    [{\"name\": \"New Kingdom Pictures\", \"id\": 41671}]   \n",
       "3852                                                 []   \n",
       "3855  [{\"name\": \"Representational Pictures\", \"id\": 8...   \n",
       "...                                                 ...   \n",
       "4769                                                 []   \n",
       "4771                                                 []   \n",
       "4780                                                 []   \n",
       "4785                                                 []   \n",
       "4794  [{\"name\": \"Gold Lion Films\", \"id\": 37870}, {\"n...   \n",
       "\n",
       "                                   production_countries release_date  revenue  \\\n",
       "1464  [{\"iso_3166_1\": \"US\", \"name\": \"United States o...   2009-05-13        0   \n",
       "3669  [{\"iso_3166_1\": \"US\", \"name\": \"United States o...   2012-04-28        0   \n",
       "3670  [{\"iso_3166_1\": \"US\", \"name\": \"United States o...   2015-10-27        0   \n",
       "3852                                                 []   2016-04-29        0   \n",
       "3855  [{\"iso_3166_1\": \"US\", \"name\": \"United States o...   2015-09-04        0   \n",
       "...                                                 ...          ...      ...   \n",
       "4769                                                 []   2007-07-08        0   \n",
       "4771                                                 []   2013-04-19        0   \n",
       "4780                                                 []   2015-10-02        0   \n",
       "4785            [{\"iso_3166_1\": \"KE\", \"name\": \"Kenya\"}]   2014-09-05        0   \n",
       "4794  [{\"iso_3166_1\": \"US\", \"name\": \"United States o...   2012-01-20        0   \n",
       "\n",
       "      runtime                                   spoken_languages    status  \\\n",
       "1464    100.0           [{\"iso_639_1\": \"en\", \"name\": \"English\"}]  Released   \n",
       "3669      0.0           [{\"iso_639_1\": \"en\", \"name\": \"English\"}]  Released   \n",
       "3670     88.0                                                 []  Released   \n",
       "3852    200.0                                                 []  Released   \n",
       "3855    100.0           [{\"iso_639_1\": \"en\", \"name\": \"English\"}]  Released   \n",
       "...       ...                                                ...       ...   \n",
       "4769     78.0                                                 []  Released   \n",
       "4771     89.0                                                 []  Released   \n",
       "4780     90.0                                                 []  Released   \n",
       "4785     60.0  [{\"iso_639_1\": \"sw\", \"name\": \"Kiswahili\"}, {\"i...  Released   \n",
       "4794     82.0           [{\"iso_639_1\": \"en\", \"name\": \"English\"}]  Released   \n",
       "\n",
       "                                           tagline  \\\n",
       "1464                                           NaN   \n",
       "3669  Even Shakespeare didn't see this one coming.   \n",
       "3670                                           NaN   \n",
       "3852                                           NaN   \n",
       "3855                      Climate change for good.   \n",
       "...                                            ...   \n",
       "4769                                           NaN   \n",
       "4771                                           NaN   \n",
       "4780                                           NaN   \n",
       "4785                                           NaN   \n",
       "4794                                           NaN   \n",
       "\n",
       "                                  title  vote_average  vote_count  \n",
       "1464                Black Water Transit           0.0           0  \n",
       "3669               Should've Been Romeo           0.0           0  \n",
       "3670                    Running Forever           0.0           0  \n",
       "3852                         The Secret           0.0           0  \n",
       "3855                     Time to Choose           0.0           0  \n",
       "...                                 ...           ...         ...  \n",
       "4769            The Legend of God's Gun           0.0           0  \n",
       "4771  Her Cry: La Llorona Investigation           0.0           0  \n",
       "4780                        Dutch Kills           0.0           0  \n",
       "4785               Stories of Our Lives           0.0           0  \n",
       "4794       Sanctuary: Quite a Conundrum           0.0           0  \n",
       "\n",
       "[63 rows x 20 columns]"
      ]
     },
     "execution_count": 24,
     "metadata": {},
     "output_type": "execute_result"
    }
   ],
   "source": [
    "tmdb.query(\"vote_average == 0\")"
   ]
  },
  {
   "cell_type": "markdown",
   "id": "269ef196-f946-44aa-85b0-d4b1b0f47e19",
   "metadata": {},
   "source": [
    "**Detectamos que alguns filmes tiveram poucos votos ou nenhum voto, dessa forma criaremos uma função que busque somente os filmes que tem mais de 10 votos**"
   ]
  },
  {
   "cell_type": "code",
   "execution_count": 26,
   "id": "981bdcad-f315-4a33-bab3-64e49a9d9437",
   "metadata": {},
   "outputs": [
    {
     "data": {
      "text/html": [
       "<div>\n",
       "<style scoped>\n",
       "    .dataframe tbody tr th:only-of-type {\n",
       "        vertical-align: middle;\n",
       "    }\n",
       "\n",
       "    .dataframe tbody tr th {\n",
       "        vertical-align: top;\n",
       "    }\n",
       "\n",
       "    .dataframe thead th {\n",
       "        text-align: right;\n",
       "    }\n",
       "</style>\n",
       "<table border=\"1\" class=\"dataframe\">\n",
       "  <thead>\n",
       "    <tr style=\"text-align: right;\">\n",
       "      <th></th>\n",
       "      <th>budget</th>\n",
       "      <th>id</th>\n",
       "      <th>popularity</th>\n",
       "      <th>revenue</th>\n",
       "      <th>runtime</th>\n",
       "      <th>vote_average</th>\n",
       "      <th>vote_count</th>\n",
       "    </tr>\n",
       "  </thead>\n",
       "  <tbody>\n",
       "    <tr>\n",
       "      <th>count</th>\n",
       "      <td>4.358000e+03</td>\n",
       "      <td>4358.000000</td>\n",
       "      <td>4358.000000</td>\n",
       "      <td>4.358000e+03</td>\n",
       "      <td>4357.000000</td>\n",
       "      <td>4358.000000</td>\n",
       "      <td>4358.000000</td>\n",
       "    </tr>\n",
       "    <tr>\n",
       "      <th>mean</th>\n",
       "      <td>3.186705e+07</td>\n",
       "      <td>49112.662001</td>\n",
       "      <td>23.619184</td>\n",
       "      <td>9.059446e+07</td>\n",
       "      <td>108.496443</td>\n",
       "      <td>6.232010</td>\n",
       "      <td>760.249656</td>\n",
       "    </tr>\n",
       "    <tr>\n",
       "      <th>std</th>\n",
       "      <td>4.171009e+07</td>\n",
       "      <td>80167.435191</td>\n",
       "      <td>32.661510</td>\n",
       "      <td>1.687623e+08</td>\n",
       "      <td>21.000772</td>\n",
       "      <td>0.888111</td>\n",
       "      <td>1275.510839</td>\n",
       "    </tr>\n",
       "    <tr>\n",
       "      <th>min</th>\n",
       "      <td>0.000000e+00</td>\n",
       "      <td>5.000000</td>\n",
       "      <td>0.011697</td>\n",
       "      <td>0.000000e+00</td>\n",
       "      <td>0.000000</td>\n",
       "      <td>1.900000</td>\n",
       "      <td>11.000000</td>\n",
       "    </tr>\n",
       "    <tr>\n",
       "      <th>25%</th>\n",
       "      <td>3.000000e+06</td>\n",
       "      <td>8358.250000</td>\n",
       "      <td>6.719426</td>\n",
       "      <td>4.814275e+04</td>\n",
       "      <td>95.000000</td>\n",
       "      <td>5.700000</td>\n",
       "      <td>87.000000</td>\n",
       "    </tr>\n",
       "    <tr>\n",
       "      <th>50%</th>\n",
       "      <td>1.800000e+07</td>\n",
       "      <td>12960.500000</td>\n",
       "      <td>14.955512</td>\n",
       "      <td>2.744996e+07</td>\n",
       "      <td>105.000000</td>\n",
       "      <td>6.300000</td>\n",
       "      <td>292.000000</td>\n",
       "    </tr>\n",
       "    <tr>\n",
       "      <th>75%</th>\n",
       "      <td>4.300000e+07</td>\n",
       "      <td>46528.750000</td>\n",
       "      <td>30.433317</td>\n",
       "      <td>1.031351e+08</td>\n",
       "      <td>119.000000</td>\n",
       "      <td>6.800000</td>\n",
       "      <td>835.750000</td>\n",
       "    </tr>\n",
       "    <tr>\n",
       "      <th>max</th>\n",
       "      <td>3.800000e+08</td>\n",
       "      <td>417859.000000</td>\n",
       "      <td>875.581305</td>\n",
       "      <td>2.787965e+09</td>\n",
       "      <td>338.000000</td>\n",
       "      <td>8.500000</td>\n",
       "      <td>13752.000000</td>\n",
       "    </tr>\n",
       "  </tbody>\n",
       "</table>\n",
       "</div>"
      ],
      "text/plain": [
       "             budget             id   popularity       revenue      runtime  \\\n",
       "count  4.358000e+03    4358.000000  4358.000000  4.358000e+03  4357.000000   \n",
       "mean   3.186705e+07   49112.662001    23.619184  9.059446e+07   108.496443   \n",
       "std    4.171009e+07   80167.435191    32.661510  1.687623e+08    21.000772   \n",
       "min    0.000000e+00       5.000000     0.011697  0.000000e+00     0.000000   \n",
       "25%    3.000000e+06    8358.250000     6.719426  4.814275e+04    95.000000   \n",
       "50%    1.800000e+07   12960.500000    14.955512  2.744996e+07   105.000000   \n",
       "75%    4.300000e+07   46528.750000    30.433317  1.031351e+08   119.000000   \n",
       "max    3.800000e+08  417859.000000   875.581305  2.787965e+09   338.000000   \n",
       "\n",
       "       vote_average    vote_count  \n",
       "count   4358.000000   4358.000000  \n",
       "mean       6.232010    760.249656  \n",
       "std        0.888111   1275.510839  \n",
       "min        1.900000     11.000000  \n",
       "25%        5.700000     87.000000  \n",
       "50%        6.300000    292.000000  \n",
       "75%        6.800000    835.750000  \n",
       "max        8.500000  13752.000000  "
      ]
     },
     "execution_count": 26,
     "metadata": {},
     "output_type": "execute_result"
    }
   ],
   "source": [
    "tmdb_com_mais_de_10_votos = tmdb.query(\"vote_count > 10\")\n",
    "tmdb_com_mais_de_10_votos.describe()"
   ]
  },
  {
   "cell_type": "code",
   "execution_count": 30,
   "id": "b8fa1cfc-d75a-4eb8-a93e-0c52077bc7b6",
   "metadata": {},
   "outputs": [
    {
     "name": "stderr",
     "output_type": "stream",
     "text": [
      "C:\\Users\\Jose Eduardo\\AppData\\Local\\Programs\\Python\\Python310\\lib\\site-packages\\seaborn\\distributions.py:2619: FutureWarning: `distplot` is a deprecated function and will be removed in a future version. Please adapt your code to use either `displot` (a figure-level function with similar flexibility) or `histplot` (an axes-level function for histograms).\n",
      "  warnings.warn(msg, FutureWarning)\n"
     ]
    },
    {
     "data": {
      "text/plain": [
       "Text(0.5, 1.0, 'Média de votos em filmes do TMDB 5000 dentre os filmes com 10 ou mais votos.')"
      ]
     },
     "execution_count": 30,
     "metadata": {},
     "output_type": "execute_result"
    },
    {
     "data": {
      "image/png": "[encoded data removed]",
      "text/plain": [
       "<Figure size 432x288 with 1 Axes>"
      ]
     },
     "metadata": {
      "needs_background": "light"
     },
     "output_type": "display_data"
    }
   ],
   "source": [
    "ax = sns.distplot(tmdb_com_mais_de_10_votos.vote_average)\n",
    "ax.set(xlabel = \"Nota Média\", ylabel = \"Densidade\")\n",
    "ax.set_title(\"Média de votos em filmes do TMDB 5000 dentre os filmes com 10 ou mais votos.\")"
   ]
  },
  {
   "cell_type": "code",
   "execution_count": 31,
   "id": "6cddd277-8f43-4967-bec6-0682a68a6e49",
   "metadata": {},
   "outputs": [
    {
     "data": {
      "text/plain": [
       "<AxesSubplot:xlabel='vote_average'>"
      ]
     },
     "execution_count": 31,
     "metadata": {},
     "output_type": "execute_result"
    },
    {
     "data": {
      "image/png": "[encoded data removed]",
      "text/plain": [
       "<Figure size 432x288 with 1 Axes>"
      ]
     },
     "metadata": {
      "needs_background": "light"
     },
     "output_type": "display_data"
    }
   ],
   "source": [
    "sns.boxplot(x=tmdb_com_mais_de_10_votos.vote_average)"
   ]
  },
  {
   "cell_type": "markdown",
   "id": "e6b3308a-61d3-43b4-b411-9ca9e7a50f5a",
   "metadata": {},
   "source": [
    "# Analisando dados do Movielens"
   ]
  },
  {
   "cell_type": "code",
   "execution_count": 32,
   "id": "b1a22bf1-e4b5-413e-88a7-bebb95d9cf5f",
   "metadata": {},
   "outputs": [],
   "source": [
    "notas = pd.read_csv('ratings.csv')"
   ]
  },
  {
   "cell_type": "code",
   "execution_count": 33,
   "id": "d8a3395e-893a-4ac6-b89a-58c6b6ecda16",
   "metadata": {},
   "outputs": [
    {
     "data": {
      "text/html": [
       "<div>\n",
       "<style scoped>\n",
       "    .dataframe tbody tr th:only-of-type {\n",
       "        vertical-align: middle;\n",
       "    }\n",
       "\n",
       "    .dataframe tbody tr th {\n",
       "        vertical-align: top;\n",
       "    }\n",
       "\n",
       "    .dataframe thead th {\n",
       "        text-align: right;\n",
       "    }\n",
       "</style>\n",
       "<table border=\"1\" class=\"dataframe\">\n",
       "  <thead>\n",
       "    <tr style=\"text-align: right;\">\n",
       "      <th></th>\n",
       "      <th>userId</th>\n",
       "      <th>movieId</th>\n",
       "      <th>rating</th>\n",
       "      <th>timestamp</th>\n",
       "    </tr>\n",
       "  </thead>\n",
       "  <tbody>\n",
       "    <tr>\n",
       "      <th>0</th>\n",
       "      <td>1</td>\n",
       "      <td>1</td>\n",
       "      <td>4.0</td>\n",
       "      <td>964982703</td>\n",
       "    </tr>\n",
       "    <tr>\n",
       "      <th>1</th>\n",
       "      <td>1</td>\n",
       "      <td>3</td>\n",
       "      <td>4.0</td>\n",
       "      <td>964981247</td>\n",
       "    </tr>\n",
       "    <tr>\n",
       "      <th>2</th>\n",
       "      <td>1</td>\n",
       "      <td>6</td>\n",
       "      <td>4.0</td>\n",
       "      <td>964982224</td>\n",
       "    </tr>\n",
       "    <tr>\n",
       "      <th>3</th>\n",
       "      <td>1</td>\n",
       "      <td>47</td>\n",
       "      <td>5.0</td>\n",
       "      <td>964983815</td>\n",
       "    </tr>\n",
       "    <tr>\n",
       "      <th>4</th>\n",
       "      <td>1</td>\n",
       "      <td>50</td>\n",
       "      <td>5.0</td>\n",
       "      <td>964982931</td>\n",
       "    </tr>\n",
       "  </tbody>\n",
       "</table>\n",
       "</div>"
      ],
      "text/plain": [
       "   userId  movieId  rating  timestamp\n",
       "0       1        1     4.0  964982703\n",
       "1       1        3     4.0  964981247\n",
       "2       1        6     4.0  964982224\n",
       "3       1       47     5.0  964983815\n",
       "4       1       50     5.0  964982931"
      ]
     },
     "execution_count": 33,
     "metadata": {},
     "output_type": "execute_result"
    }
   ],
   "source": [
    "notas.head()"
   ]
  },
  {
   "cell_type": "code",
   "execution_count": 39,
   "id": "8528f2f1-d2ee-4348-941f-bf4afce6b2ef",
   "metadata": {},
   "outputs": [
    {
     "data": {
      "text/plain": [
       "movieId\n",
       "1    3.920930\n",
       "2    3.431818\n",
       "3    3.259615\n",
       "4    2.357143\n",
       "5    3.071429\n",
       "Name: rating, dtype: float64"
      ]
     },
     "execution_count": 39,
     "metadata": {},
     "output_type": "execute_result"
    }
   ],
   "source": [
    "nota_media_por_filme = notas.groupby(\"movieId\").mean()[\"rating\"]\n",
    "nota_media_por_filme.head()"
   ]
  },
  {
   "cell_type": "code",
   "execution_count": 42,
   "id": "87edf0d0-bb79-4db3-80c3-6a2b0d10b6cb",
   "metadata": {},
   "outputs": [
    {
     "name": "stderr",
     "output_type": "stream",
     "text": [
      "C:\\Users\\Jose Eduardo\\AppData\\Local\\Programs\\Python\\Python310\\lib\\site-packages\\seaborn\\distributions.py:2619: FutureWarning: `distplot` is a deprecated function and will be removed in a future version. Please adapt your code to use either `displot` (a figure-level function with similar flexibility) or `histplot` (an axes-level function for histograms).\n",
      "  warnings.warn(msg, FutureWarning)\n"
     ]
    },
    {
     "data": {
      "text/plain": [
       "Text(0.5, 1.0, 'Média de votos em filmes do Movielens 100 Mil')"
      ]
     },
     "execution_count": 42,
     "metadata": {},
     "output_type": "execute_result"
    },
    {
     "data": {
      "image/png": "[encoded data removed]",
      "text/plain": [
       "<Figure size 432x288 with 1 Axes>"
      ]
     },
     "metadata": {
      "needs_background": "light"
     },
     "output_type": "display_data"
    }
   ],
   "source": [
    "ax = sns.distplot(nota_media_por_filme.values)\n",
    "ax.set(xlabel = \"Nota Média\", ylabel = \"Densidade\")\n",
    "ax.set_title(\"Média de votos em filmes do Movielens 100 Mil\")"
   ]
  },
  {
   "cell_type": "code",
   "execution_count": 48,
   "id": "fdf1452b-a196-490f-a4c7-847f2d0c61c1",
   "metadata": {},
   "outputs": [],
   "source": [
    "quantidade_de_votos_por_filme = notas.groupby(\"movieId\").count()\n",
    "filmes_com_pelo_menos_10_votos = quantidade_de_votos_por_filme.query(\"rating >= 10\").index"
   ]
  },
  {
   "cell_type": "code",
   "execution_count": 49,
   "id": "8a674266-c80b-4ab3-ba6a-e34512112b3f",
   "metadata": {},
   "outputs": [
    {
     "data": {
      "text/plain": [
       "array([     1,      2,      3, ..., 177765, 179819, 187593], dtype=int64)"
      ]
     },
     "execution_count": 49,
     "metadata": {},
     "output_type": "execute_result"
    }
   ],
   "source": [
    "filmes_com_pelo_menos_10_votos.values"
   ]
  },
  {
   "cell_type": "code",
   "execution_count": 50,
   "id": "eebfb754-f3fd-41f1-82a6-ce852a3712b8",
   "metadata": {},
   "outputs": [
    {
     "data": {
      "text/plain": [
       "movieId\n",
       "1    3.920930\n",
       "2    3.431818\n",
       "3    3.259615\n",
       "5    3.071429\n",
       "6    3.946078\n",
       "Name: rating, dtype: float64"
      ]
     },
     "execution_count": 50,
     "metadata": {},
     "output_type": "execute_result"
    }
   ],
   "source": [
    "nota_media_dos_filmes_com_pelo_menos_10_votos = nota_media_por_filme.loc[filmes_com_pelo_menos_10_votos.values]\n",
    "nota_media_dos_filmes_com_pelo_menos_10_votos.head()"
   ]
  },
  {
   "cell_type": "code",
   "execution_count": 51,
   "id": "3aa4c36c-fc90-41c8-a701-c30f4339b815",
   "metadata": {},
   "outputs": [
    {
     "name": "stderr",
     "output_type": "stream",
     "text": [
      "C:\\Users\\Jose Eduardo\\AppData\\Local\\Programs\\Python\\Python310\\lib\\site-packages\\seaborn\\distributions.py:2619: FutureWarning: `distplot` is a deprecated function and will be removed in a future version. Please adapt your code to use either `displot` (a figure-level function with similar flexibility) or `histplot` (an axes-level function for histograms).\n",
      "  warnings.warn(msg, FutureWarning)\n"
     ]
    },
    {
     "data": {
      "text/plain": [
       "Text(0.5, 1.0, 'Média de votos em filmes no MovieLens')"
      ]
     },
     "execution_count": 51,
     "metadata": {},
     "output_type": "execute_result"
    },
    {
     "data": {
      "image/png": "[encoded data removed]",
      "text/plain": [
       "<Figure size 432x288 with 1 Axes>"
      ]
     },
     "metadata": {
      "needs_background": "light"
     },
     "output_type": "display_data"
    }
   ],
   "source": [
    "ax = sns.distplot(nota_media_dos_filmes_com_pelo_menos_10_votos)\n",
    "ax.set(xlabel='Nota média', ylabel='Densidade')\n",
    "ax.set_title('Média de votos em filmes no MovieLens')"
   ]
  },
  {
   "cell_type": "code",
   "execution_count": 52,
   "id": "434f6517-d388-476c-b484-5df99b49b43c",
   "metadata": {},
   "outputs": [
    {
     "data": {
      "text/plain": [
       "Text(0.5, 1.0, 'Distribuição de nota média dos filmes do MovieLens')"
      ]
     },
     "execution_count": 52,
     "metadata": {},
     "output_type": "execute_result"
    },
    {
     "data": {
      "image/png": "[encoded data removed]",
      "text/plain": [
       "<Figure size 432x288 with 1 Axes>"
      ]
     },
     "metadata": {
      "needs_background": "light"
     },
     "output_type": "display_data"
    }
   ],
   "source": [
    "ax = sns.boxplot(x=nota_media_dos_filmes_com_pelo_menos_10_votos.values)\n",
    "ax.set(xlabel='Nota  média do filme')\n",
    "ax.set_title('Distribuição de nota média dos filmes do MovieLens')"
   ]
  },
  {
   "cell_type": "code",
   "execution_count": 53,
   "id": "aedabe21-4f34-4128-913f-aecc079ef0ac",
   "metadata": {},
   "outputs": [
    {
     "name": "stderr",
     "output_type": "stream",
     "text": [
      "C:\\Users\\Jose Eduardo\\AppData\\Local\\Programs\\Python\\Python310\\lib\\site-packages\\seaborn\\distributions.py:2619: FutureWarning: `distplot` is a deprecated function and will be removed in a future version. Please adapt your code to use either `displot` (a figure-level function with similar flexibility) or `histplot` (an axes-level function for histograms).\n",
      "  warnings.warn(msg, FutureWarning)\n"
     ]
    },
    {
     "data": {
      "text/plain": [
       "Text(0.5, 1.0, 'Média de votos em filmes no MovieLens')"
      ]
     },
     "execution_count": 53,
     "metadata": {},
     "output_type": "execute_result"
    },
    {
     "data": {
      "image/png": "[encoded data removed]",
      "text/plain": [
       "<Figure size 432x288 with 1 Axes>"
      ]
     },
     "metadata": {
      "needs_background": "light"
     },
     "output_type": "display_data"
    }
   ],
   "source": [
    "ax = sns.distplot(nota_media_dos_filmes_com_pelo_menos_10_votos, \n",
    "                  hist_kws = {'cumulative':True}, \n",
    "                  kde_kws = {'cumulative':True})\n",
    "ax.set(xlabel='Nota média', ylabel='Proporção acumulada de filmes')\n",
    "ax.set_title('Média de votos em filmes no MovieLens')"
   ]
  },
  {
   "cell_type": "code",
   "execution_count": 54,
   "id": "9ff26ab1-1486-4839-8ba5-7b4107d9d6e9",
   "metadata": {},
   "outputs": [
    {
     "name": "stderr",
     "output_type": "stream",
     "text": [
      "C:\\Users\\Jose Eduardo\\AppData\\Local\\Programs\\Python\\Python310\\lib\\site-packages\\seaborn\\distributions.py:2619: FutureWarning: `distplot` is a deprecated function and will be removed in a future version. Please adapt your code to use either `displot` (a figure-level function with similar flexibility) or `histplot` (an axes-level function for histograms).\n",
      "  warnings.warn(msg, FutureWarning)\n"
     ]
    },
    {
     "data": {
      "text/plain": [
       "Text(0.5, 1.0, 'Média de votos em filmes no TMDB 5000')"
      ]
     },
     "execution_count": 54,
     "metadata": {},
     "output_type": "execute_result"
    },
    {
     "data": {
      "image/png": "[encoded data removed]",
      "text/plain": [
       "<Figure size 432x288 with 1 Axes>"
      ]
     },
     "metadata": {
      "needs_background": "light"
     },
     "output_type": "display_data"
    }
   ],
   "source": [
    "ax = sns.distplot(tmdb_com_mais_de_10_votos.vote_average, \n",
    "                  hist_kws = {'cumulative':True}, \n",
    "                  kde_kws = {'cumulative':True})\n",
    "ax.set(xlabel='Nota média', ylabel='Proporção acumulada de filmes')\n",
    "ax.set_title('Média de votos em filmes no TMDB 5000')"
   ]
  },
  {
   "cell_type": "code",
   "execution_count": 55,
   "id": "6cfbd148-0084-493c-a4c0-963f8a199296",
   "metadata": {},
   "outputs": [
    {
     "name": "stderr",
     "output_type": "stream",
     "text": [
      "C:\\Users\\Jose Eduardo\\AppData\\Local\\Programs\\Python\\Python310\\lib\\site-packages\\seaborn\\distributions.py:2619: FutureWarning: `distplot` is a deprecated function and will be removed in a future version. Please adapt your code to use either `displot` (a figure-level function with similar flexibility) or `histplot` (an axes-level function for histograms).\n",
      "  warnings.warn(msg, FutureWarning)\n"
     ]
    },
    {
     "data": {
      "text/plain": [
       "Text(0.5, 1.0, 'Número de votos em filmes no TMDB 5000 com 10 ou mais votos')"
      ]
     },
     "execution_count": 55,
     "metadata": {},
     "output_type": "execute_result"
    },
    {
     "data": {
      "image/png": "[encoded data removed]",
      "text/plain": [
       "<Figure size 432x288 with 1 Axes>"
      ]
     },
     "metadata": {
      "needs_background": "light"
     },
     "output_type": "display_data"
    }
   ],
   "source": [
    "ax = sns.distplot(tmdb_com_mais_de_10_votos.vote_count)\n",
    "ax.set(xlabel='Número de votos', ylabel='Densidade')\n",
    "ax.set_title('Número de votos em filmes no TMDB 5000 com 10 ou mais votos')"
   ]
  },
  {
   "cell_type": "code",
   "execution_count": 56,
   "id": "b0791592-541b-4023-8f7c-2d24c34b4392",
   "metadata": {},
   "outputs": [
    {
     "data": {
      "text/plain": [
       "0       237000000\n",
       "1       300000000\n",
       "2       245000000\n",
       "3       250000000\n",
       "4       260000000\n",
       "          ...    \n",
       "4798       220000\n",
       "4799         9000\n",
       "4800            0\n",
       "4801            0\n",
       "4802            0\n",
       "Name: budget, Length: 4803, dtype: int64"
      ]
     },
     "execution_count": 56,
     "metadata": {},
     "output_type": "execute_result"
    }
   ],
   "source": [
    "tmdb.budget"
   ]
  },
  {
   "cell_type": "code",
   "execution_count": 57,
   "id": "f9f34f64-5b94-481b-b3a5-7e87af999029",
   "metadata": {},
   "outputs": [
    {
     "name": "stderr",
     "output_type": "stream",
     "text": [
      "C:\\Users\\Jose Eduardo\\AppData\\Local\\Programs\\Python\\Python310\\lib\\site-packages\\seaborn\\distributions.py:2619: FutureWarning: `distplot` is a deprecated function and will be removed in a future version. Please adapt your code to use either `displot` (a figure-level function with similar flexibility) or `histplot` (an axes-level function for histograms).\n",
      "  warnings.warn(msg, FutureWarning)\n"
     ]
    },
    {
     "data": {
      "text/plain": [
       "Text(0.5, 1.0, 'Gastos em filmes no TMDB 5000')"
      ]
     },
     "execution_count": 57,
     "metadata": {},
     "output_type": "execute_result"
    },
    {
     "data": {
      "image/png": "[encoded data removed]",
      "text/plain": [
       "<Figure size 432x288 with 1 Axes>"
      ]
     },
     "metadata": {
      "needs_background": "light"
     },
     "output_type": "display_data"
    }
   ],
   "source": [
    "ax = sns.distplot(tmdb.query(\"budget > 0\").budget)\n",
    "ax.set(xlabel='Gastos', ylabel='Densidade')\n",
    "ax.set_title('Gastos em filmes no TMDB 5000')"
   ]
  },
  {
   "cell_type": "code",
   "execution_count": 58,
   "id": "a145610a-1456-4aa4-909d-9c706e6bb1ce",
   "metadata": {},
   "outputs": [
    {
     "data": {
      "text/html": [
       "<div>\n",
       "<style scoped>\n",
       "    .dataframe tbody tr th:only-of-type {\n",
       "        vertical-align: middle;\n",
       "    }\n",
       "\n",
       "    .dataframe tbody tr th {\n",
       "        vertical-align: top;\n",
       "    }\n",
       "\n",
       "    .dataframe thead th {\n",
       "        text-align: right;\n",
       "    }\n",
       "</style>\n",
       "<table border=\"1\" class=\"dataframe\">\n",
       "  <thead>\n",
       "    <tr style=\"text-align: right;\">\n",
       "      <th></th>\n",
       "      <th>budget</th>\n",
       "      <th>genres</th>\n",
       "      <th>homepage</th>\n",
       "      <th>id</th>\n",
       "      <th>keywords</th>\n",
       "      <th>original_language</th>\n",
       "      <th>original_title</th>\n",
       "      <th>overview</th>\n",
       "      <th>popularity</th>\n",
       "      <th>production_companies</th>\n",
       "      <th>production_countries</th>\n",
       "      <th>release_date</th>\n",
       "      <th>revenue</th>\n",
       "      <th>runtime</th>\n",
       "      <th>spoken_languages</th>\n",
       "      <th>status</th>\n",
       "      <th>tagline</th>\n",
       "      <th>title</th>\n",
       "      <th>vote_average</th>\n",
       "      <th>vote_count</th>\n",
       "    </tr>\n",
       "  </thead>\n",
       "  <tbody>\n",
       "    <tr>\n",
       "      <th>4553</th>\n",
       "      <td>0</td>\n",
       "      <td>[]</td>\n",
       "      <td>NaN</td>\n",
       "      <td>380097</td>\n",
       "      <td>[]</td>\n",
       "      <td>en</td>\n",
       "      <td>America Is Still the Place</td>\n",
       "      <td>1971 post civil rights San Francisco seemed li...</td>\n",
       "      <td>0.0</td>\n",
       "      <td>[]</td>\n",
       "      <td>[]</td>\n",
       "      <td>NaN</td>\n",
       "      <td>0</td>\n",
       "      <td>0.0</td>\n",
       "      <td>[]</td>\n",
       "      <td>Released</td>\n",
       "      <td>NaN</td>\n",
       "      <td>America Is Still the Place</td>\n",
       "      <td>0.0</td>\n",
       "      <td>0</td>\n",
       "    </tr>\n",
       "  </tbody>\n",
       "</table>\n",
       "</div>"
      ],
      "text/plain": [
       "      budget genres homepage      id keywords original_language  \\\n",
       "4553       0     []      NaN  380097       []                en   \n",
       "\n",
       "                  original_title  \\\n",
       "4553  America Is Still the Place   \n",
       "\n",
       "                                               overview  popularity  \\\n",
       "4553  1971 post civil rights San Francisco seemed li...         0.0   \n",
       "\n",
       "     production_companies production_countries release_date  revenue  runtime  \\\n",
       "4553                   []                   []          NaN        0      0.0   \n",
       "\n",
       "     spoken_languages    status tagline                       title  \\\n",
       "4553               []  Released     NaN  America Is Still the Place   \n",
       "\n",
       "      vote_average  vote_count  \n",
       "4553           0.0           0  "
      ]
     },
     "execution_count": 58,
     "metadata": {},
     "output_type": "execute_result"
    }
   ],
   "source": [
    "tmdb.query(\"popularity == 0\")"
   ]
  },
  {
   "cell_type": "code",
   "execution_count": 59,
   "id": "ee32fba4-728e-4ec7-8bbc-0e754f489dc9",
   "metadata": {},
   "outputs": [
    {
     "name": "stderr",
     "output_type": "stream",
     "text": [
      "C:\\Users\\Jose Eduardo\\AppData\\Local\\Programs\\Python\\Python310\\lib\\site-packages\\seaborn\\distributions.py:2619: FutureWarning: `distplot` is a deprecated function and will be removed in a future version. Please adapt your code to use either `displot` (a figure-level function with similar flexibility) or `histplot` (an axes-level function for histograms).\n",
      "  warnings.warn(msg, FutureWarning)\n"
     ]
    },
    {
     "data": {
      "text/plain": [
       "Text(0.5, 1.0, 'Popularidade dos filmes no TMDB 5000')"
      ]
     },
     "execution_count": 59,
     "metadata": {},
     "output_type": "execute_result"
    },
    {
     "data": {
      "image/png": "[encoded data removed]",
      "text/plain": [
       "<Figure size 432x288 with 1 Axes>"
      ]
     },
     "metadata": {
      "needs_background": "light"
     },
     "output_type": "display_data"
    }
   ],
   "source": [
    "ax = sns.distplot(tmdb.popularity)\n",
    "ax.set(xlabel='Popularidade', ylabel='Densidade')\n",
    "ax.set_title('Popularidade dos filmes no TMDB 5000')"
   ]
  },
  {
   "cell_type": "code",
   "execution_count": 62,
   "id": "c4c91177-742e-4703-83ee-a631ece8e29f",
   "metadata": {},
   "outputs": [
    {
     "data": {
      "text/plain": [
       "2"
      ]
     },
     "execution_count": 62,
     "metadata": {},
     "output_type": "execute_result"
    }
   ],
   "source": [
    "tmdb.runtime.isnull().sum()"
   ]
  },
  {
   "cell_type": "code",
   "execution_count": 63,
   "id": "46ea1e7e-6848-4509-94dd-0161022b03f9",
   "metadata": {},
   "outputs": [
    {
     "data": {
      "text/plain": [
       "0       162.0\n",
       "1       169.0\n",
       "2       148.0\n",
       "3       165.0\n",
       "4       132.0\n",
       "        ...  \n",
       "4798     81.0\n",
       "4799     85.0\n",
       "4800    120.0\n",
       "4801     98.0\n",
       "4802     90.0\n",
       "Name: runtime, Length: 4801, dtype: float64"
      ]
     },
     "execution_count": 63,
     "metadata": {},
     "output_type": "execute_result"
    }
   ],
   "source": [
    "tmdb.runtime.dropna()"
   ]
  },
  {
   "cell_type": "code",
   "execution_count": 64,
   "id": "0db95dff-1c83-4e79-aba1-767772ef449f",
   "metadata": {},
   "outputs": [
    {
     "name": "stderr",
     "output_type": "stream",
     "text": [
      "C:\\Users\\Jose Eduardo\\AppData\\Local\\Programs\\Python\\Python310\\lib\\site-packages\\seaborn\\distributions.py:2619: FutureWarning: `distplot` is a deprecated function and will be removed in a future version. Please adapt your code to use either `displot` (a figure-level function with similar flexibility) or `histplot` (an axes-level function for histograms).\n",
      "  warnings.warn(msg, FutureWarning)\n"
     ]
    },
    {
     "data": {
      "text/plain": [
       "Text(0.5, 1.0, 'Duração dos filmes no TMDB 5000')"
      ]
     },
     "execution_count": 64,
     "metadata": {},
     "output_type": "execute_result"
    },
    {
     "data": {
      "image/png": "[encoded data removed]",
      "text/plain": [
       "<Figure size 432x288 with 1 Axes>"
      ]
     },
     "metadata": {
      "needs_background": "light"
     },
     "output_type": "display_data"
    }
   ],
   "source": [
    "ax = sns.distplot(tmdb.runtime.dropna())\n",
    "ax.set(xlabel='Duração', ylabel='Densidade')\n",
    "ax.set_title('Duração dos filmes no TMDB 5000')"
   ]
  },
  {
   "cell_type": "code",
   "execution_count": 65,
   "id": "fe8b968e-20d4-47f4-a30b-3b3f95df0207",
   "metadata": {},
   "outputs": [
    {
     "name": "stderr",
     "output_type": "stream",
     "text": [
      "C:\\Users\\Jose Eduardo\\AppData\\Local\\Programs\\Python\\Python310\\lib\\site-packages\\seaborn\\distributions.py:2619: FutureWarning: `distplot` is a deprecated function and will be removed in a future version. Please adapt your code to use either `displot` (a figure-level function with similar flexibility) or `histplot` (an axes-level function for histograms).\n",
      "  warnings.warn(msg, FutureWarning)\n"
     ]
    },
    {
     "data": {
      "text/plain": [
       "Text(0.5, 1.0, 'Duração dos filmes no TMDB 5000')"
      ]
     },
     "execution_count": 65,
     "metadata": {},
     "output_type": "execute_result"
    },
    {
     "data": {
      "image/png": "[encoded data removed]",
      "text/plain": [
       "<Figure size 432x288 with 1 Axes>"
      ]
     },
     "metadata": {
      "needs_background": "light"
     },
     "output_type": "display_data"
    }
   ],
   "source": [
    "ax = sns.distplot(tmdb.query(\"runtime>0\").runtime.dropna())\n",
    "ax.set(xlabel='Tempo de duração', ylabel='Densidade')\n",
    "ax.set_title('Duração dos filmes no TMDB 5000')"
   ]
  },
  {
   "cell_type": "code",
   "execution_count": 66,
   "id": "dd0d1f04-c301-4e2d-8580-ecd3b68f9a49",
   "metadata": {},
   "outputs": [
    {
     "name": "stderr",
     "output_type": "stream",
     "text": [
      "C:\\Users\\Jose Eduardo\\AppData\\Local\\Programs\\Python\\Python310\\lib\\site-packages\\seaborn\\distributions.py:2619: FutureWarning: `distplot` is a deprecated function and will be removed in a future version. Please adapt your code to use either `displot` (a figure-level function with similar flexibility) or `histplot` (an axes-level function for histograms).\n",
      "  warnings.warn(msg, FutureWarning)\n"
     ]
    },
    {
     "data": {
      "text/plain": [
       "Text(0.5, 1.0, 'Duração dos filmes no TMDB 5000')"
      ]
     },
     "execution_count": 66,
     "metadata": {},
     "output_type": "execute_result"
    },
    {
     "data": {
      "image/png": "[encoded data removed]",
      "text/plain": [
       "<Figure size 432x288 with 1 Axes>"
      ]
     },
     "metadata": {
      "needs_background": "light"
     },
     "output_type": "display_data"
    }
   ],
   "source": [
    "ax = sns.distplot(tmdb.query(\"runtime>0\").runtime.dropna(),\n",
    "                 hist_kws={'cumulative':True},\n",
    "                 kde_kws={'cumulative':True})\n",
    "ax.set(xlabel='Tempo de duração', ylabel='Densidade')\n",
    "ax.set_title('Duração dos filmes no TMDB 5000')"
   ]
  },
  {
   "cell_type": "code",
   "execution_count": 67,
   "id": "480a19ad-6c47-4d3e-8094-5b43cc298c70",
   "metadata": {},
   "outputs": [
    {
     "data": {
      "text/plain": [
       "121.0"
      ]
     },
     "execution_count": 67,
     "metadata": {},
     "output_type": "execute_result"
    }
   ],
   "source": [
    "tmdb.query(\"runtime>0\").runtime.dropna().quantile(q=0.8)"
   ]
  },
  {
   "cell_type": "code",
   "execution_count": 68,
   "id": "126e584d-9e13-4cd9-a21b-35e16307b393",
   "metadata": {},
   "outputs": [
    {
     "data": {
      "text/plain": [
       "3.4320503405352594"
      ]
     },
     "execution_count": 68,
     "metadata": {},
     "output_type": "execute_result"
    }
   ],
   "source": [
    "nota_media_dos_filmes_com_pelo_menos_10_votos.mean()"
   ]
  },
  {
   "cell_type": "code",
   "execution_count": 69,
   "id": "60151b8d-51d1-47e7-a18a-dcf9e040b4ab",
   "metadata": {},
   "outputs": [
    {
     "data": {
      "text/plain": [
       "3.5259741603585653"
      ]
     },
     "execution_count": 69,
     "metadata": {},
     "output_type": "execute_result"
    }
   ],
   "source": [
    "nota_media_dos_filmes_com_pelo_menos_10_votos[0:5].mean()"
   ]
  },
  {
   "cell_type": "code",
   "execution_count": 70,
   "id": "373d7fd9-4fa9-4cac-9a34-c4e3fe582173",
   "metadata": {},
   "outputs": [
    {
     "data": {
      "text/plain": [
       "2269"
      ]
     },
     "execution_count": 70,
     "metadata": {},
     "output_type": "execute_result"
    }
   ],
   "source": [
    "len(nota_media_dos_filmes_com_pelo_menos_10_votos)"
   ]
  },
  {
   "cell_type": "code",
   "execution_count": 72,
   "id": "a2640a3b-f3bc-403d-9432-b62c438334b0",
   "metadata": {},
   "outputs": [],
   "source": [
    "for i in range(1, len(nota_media_dos_filmes_com_pelo_menos_10_votos)):\n",
    "    nota_media_dos_filmes_com_pelo_menos_10_votos[0:i].mean()"
   ]
  },
  {
   "cell_type": "code",
   "execution_count": 73,
   "id": "1dfd0bb6-efca-4a7a-92db-78854f714a32",
   "metadata": {},
   "outputs": [
    {
     "data": {
      "text/plain": [
       "[3.9209302325581397,\n",
       " 3.676374207188161,\n",
       " 3.5374545996639024,\n",
       " 3.4209480926050695,\n",
       " 3.5259741603585653,\n",
       " 3.469175997829668,\n",
       " 3.420007998139716,\n",
       " 3.429533513523767,\n",
       " 3.456410742179856,\n",
       " 3.352874931119765,\n",
       " 3.396552967684635,\n",
       " 3.363506887044249,\n",
       " 3.406839377909513,\n",
       " 3.4332165225577675,\n",
       " 3.451002087720583,\n",
       " 3.4057690026925918,\n",
       " 3.352488473122439,\n",
       " 3.360371448086299,\n",
       " 3.353100436198716,\n",
       " 3.34169541438878,\n",
       " 3.3313765851321713,\n",
       " 3.3447231039898,\n",
       " 3.3514742733815477,\n",
       " 3.387965875627014,\n",
       " 3.412973556391407,\n",
       " 3.404174978311576,\n",
       " 3.425614825316986,\n",
       " 3.4337122869128076,\n",
       " 3.4475781010027933,\n",
       " 3.4424344719950075,\n",
       " 3.4507430374145236,\n",
       " 3.422391013147493,\n",
       " 3.419060982446054,\n",
       " 3.40869644374666,\n",
       " 3.424887101300415,\n",
       " 3.417169649140109,\n",
       " 3.4393473639752203,\n",
       " 3.4400036363518125,\n",
       " 3.4550555181639973,\n",
       " 3.4495614831510735,\n",
       " 3.4558221786839747,\n",
       " 3.433832556918073,\n",
       " 3.441766683501374,\n",
       " 3.4432967795374996,\n",
       " 3.4437021502486322,\n",
       " 3.442752103504097,\n",
       " 3.4283255881604546,\n",
       " 3.421634281264255,\n",
       " 3.4327573911704268,\n",
       " 3.427227243347018,\n",
       " 3.4237521993598214,\n",
       " 3.4338723493721326,\n",
       " 3.426135314927555,\n",
       " 3.434910586873341,\n",
       " 3.423107017761358,\n",
       " 3.429526690580837,\n",
       " 3.429699800209137,\n",
       " 3.427163746682293,\n",
       " 3.4254647522795945,\n",
       " 3.4355677659019386,\n",
       " 3.446554675162058,\n",
       " 3.4481179588025017,\n",
       " 3.435548626123097,\n",
       " 3.437857762173257,\n",
       " 3.4303770720356037,\n",
       " 3.4314319648835494,\n",
       " 3.4323685929675505,\n",
       " 3.430912192090577,\n",
       " 3.4282192333532597,\n",
       " 3.428768482400594,\n",
       " 3.4346417593284535,\n",
       " 3.436180825802427,\n",
       " 3.429055860985416,\n",
       " 3.4350821331342614,\n",
       " 3.427462856207623,\n",
       " 3.4192916556378283,\n",
       " 3.412454843783534,\n",
       " 3.405592512228055,\n",
       " 3.4085080795428526,\n",
       " 3.4184752579603304,\n",
       " 3.420229959227562,\n",
       " 3.419025064254403,\n",
       " 3.42067000993273,\n",
       " 3.4166540971160706,\n",
       " 3.4046934606794106,\n",
       " 3.402645530073504,\n",
       " 3.39433058470506,\n",
       " 3.3860922239551132,\n",
       " 3.378383322562359,\n",
       " 3.3850123967561108,\n",
       " 3.3951517364367287,\n",
       " 3.3952346281904355,\n",
       " 3.383078405116914,\n",
       " 3.379430534545761,\n",
       " 3.3735724938312446,\n",
       " 3.3744554192427247,\n",
       " 3.36514586411062,\n",
       " 3.3682226069938452,\n",
       " 3.3655132877312814,\n",
       " 3.3585248215206356,\n",
       " 3.357450318337263,\n",
       " 3.358179415038056,\n",
       " 3.351951135927654,\n",
       " 3.3526878695107665,\n",
       " 3.348500780070291,\n",
       " 3.3550400808872385,\n",
       " 3.3547736372550667,\n",
       " 3.3554569501376257,\n",
       " 3.3590766111455377,\n",
       " 3.363591998596662,\n",
       " 3.365834413023719,\n",
       " 3.3673757266437,\n",
       " 3.3629178561746085,\n",
       " 3.3632065884303866,\n",
       " 3.360571317017425,\n",
       " 3.365159987929837,\n",
       " 3.366312466665479,\n",
       " 3.3597185923218533,\n",
       " 3.362398027920589,\n",
       " 3.3633595258360662,\n",
       " 3.3631739850515454,\n",
       " 3.3601971491085,\n",
       " 3.3677817531667715,\n",
       " 3.372304250549067,\n",
       " 3.370737581250557,\n",
       " 3.3735271418931894,\n",
       " 3.374156757879015,\n",
       " 3.374817373804415,\n",
       " 3.370582909112686,\n",
       " 3.3715784251964345,\n",
       " 3.3656885135537133,\n",
       " 3.37224447706627,\n",
       " 3.3760693485240605,\n",
       " 3.3800148153616565,\n",
       " 3.3841583644285618,\n",
       " 3.3842532207454803,\n",
       " 3.3810190838830185,\n",
       " 3.3837512971601633,\n",
       " 3.380605090500224,\n",
       " 3.379672196996651,\n",
       " 3.378565899220266,\n",
       " 3.3834839075139476,\n",
       " 3.3862967073615025,\n",
       " 3.3859578413381586,\n",
       " 3.384907757274957,\n",
       " 3.3893653362368696,\n",
       " 3.3896128004410913,\n",
       " 3.393864044981903,\n",
       " 3.3992546782632913,\n",
       " 3.4000497705316595,\n",
       " 3.3970900038393967,\n",
       " 3.402495661708875,\n",
       " 3.405720090935179,\n",
       " 3.4097413890459887,\n",
       " 3.4119366058908533,\n",
       " 3.409802059496816,\n",
       " 3.4095803903280464,\n",
       " 3.4082773733240948,\n",
       " 3.414697151366201,\n",
       " 3.415855294170163,\n",
       " 3.416688491100783,\n",
       " 3.4130270153024114,\n",
       " 3.411413352631845,\n",
       " 3.4113042377896905,\n",
       " 3.407801383823288,\n",
       " 3.4100435441617014,\n",
       " 3.412176419742972,\n",
       " 3.4087831390490133,\n",
       " 3.4091417462445928,\n",
       " 3.408339308165079,\n",
       " 3.4061874564846257,\n",
       " 3.4072981237272857,\n",
       " 3.4083156682914826,\n",
       " 3.409443425683747,\n",
       " 3.409309262750016,\n",
       " 3.407986315735727,\n",
       " 3.4091241049123617,\n",
       " 3.40321409790242,\n",
       " 3.407465045615825,\n",
       " 3.4080870035608934,\n",
       " 3.406157371107031,\n",
       " 3.4068345930498816,\n",
       " 3.4097582316950534,\n",
       " 3.4070783862329423,\n",
       " 3.405876413203554,\n",
       " 3.4063824539927823,\n",
       " 3.4045319854023735,\n",
       " 3.404026622764721,\n",
       " 3.4006291526014407,\n",
       " 3.4018698604107156,\n",
       " 3.395577348052544,\n",
       " 3.3948191326981045,\n",
       " 3.395515612663823,\n",
       " 3.390899552804731,\n",
       " 3.3914446372069422,\n",
       " 3.39362186772212,\n",
       " 3.392416934383429,\n",
       " 3.390916031155422,\n",
       " 3.386439066174742,\n",
       " 3.381590204177202,\n",
       " 3.3801951806548804,\n",
       " 3.380788273819955,\n",
       " 3.377870408128534,\n",
       " 3.373720308088688,\n",
       " 3.375274392889757,\n",
       " 3.3718750026330104,\n",
       " 3.368727485630198,\n",
       " 3.3679563598980016,\n",
       " 3.3654780998027958,\n",
       " 3.361555188216433,\n",
       " 3.36326451065248,\n",
       " 3.3650325801215497,\n",
       " 3.3616542794893096,\n",
       " 3.3601262383017265,\n",
       " 3.355756511242811,\n",
       " 3.356637511799923,\n",
       " 3.359273151969377,\n",
       " 3.358049846651135,\n",
       " 3.3564149158445087,\n",
       " 3.357225091069518,\n",
       " 3.352857067543827,\n",
       " 3.355736563920467,\n",
       " 3.353692902198851,\n",
       " 3.351518677933082,\n",
       " 3.350865463606915,\n",
       " 3.351746589874141,\n",
       " 3.3532492795348587,\n",
       " 3.3574016949754952,\n",
       " 3.3575106523824867,\n",
       " 3.3592171278069105,\n",
       " 3.3583456023048983,\n",
       " 3.356516363778373,\n",
       " 3.3544009989708963,\n",
       " 3.35288646478726,\n",
       " 3.35263638471182,\n",
       " 3.3543201288443973,\n",
       " 3.355638046725504,\n",
       " 3.355732209472404,\n",
       " 3.357649453317173,\n",
       " 3.357779617632055,\n",
       " 3.353667115760829,\n",
       " 3.353795001169319,\n",
       " 3.3548643071877016,\n",
       " 3.3556270912015123,\n",
       " 3.3558762323258597,\n",
       " 3.3568855430345623,\n",
       " 3.3556655835710845,\n",
       " 3.351831294543628,\n",
       " 3.3509421519254157,\n",
       " 3.3514795597883023,\n",
       " 3.354959720904683,\n",
       " 3.357023372805855,\n",
       " 3.3566003555220374,\n",
       " 3.3551964171144704,\n",
       " 3.3533677601410368,\n",
       " 3.3543590691137,\n",
       " 3.3540178535399763,\n",
       " 3.3532916861489945,\n",
       " 3.3541798778369647,\n",
       " 3.354631871049929,\n",
       " 3.3519959890407973,\n",
       " 3.3548540442414545,\n",
       " 3.352690014741351,\n",
       " 3.3525551024534357,\n",
       " 3.3474511209347435,\n",
       " 3.348226731160027,\n",
       " 3.3479048897772827,\n",
       " 3.3496492171116383,\n",
       " 3.351323383590777,\n",
       " 3.3520350683214395,\n",
       " 3.3494675957446076,\n",
       " 3.347212608668749,\n",
       " 3.3459249788024623,\n",
       " 3.3462492767217804,\n",
       " 3.347871460176523,\n",
       " 3.3501291075775397,\n",
       " 3.351880864783608,\n",
       " 3.3521567301209747,\n",
       " 3.3550568505240554,\n",
       " 3.3559919443324806,\n",
       " 3.357467232591815,\n",
       " 3.3577953629726953,\n",
       " 3.358245503687227,\n",
       " 3.3598649977523487,\n",
       " 3.358602313549709,\n",
       " 3.3612506344794215,\n",
       " 3.3619829617858645,\n",
       " 3.3626200158958253,\n",
       " 3.362787805152626,\n",
       " 3.363753561489538,\n",
       " 3.363128353999258,\n",
       " 3.3620404299973927,\n",
       " 3.3597188523585557,\n",
       " 3.3596095576461003,\n",
       " 3.360211006728781,\n",
       " 3.3593059279638453,\n",
       " 3.3596078594920367,\n",
       " 3.359379868912086,\n",
       " 3.3598037192204435,\n",
       " 3.3576295307224133,\n",
       " 3.3562903809676725,\n",
       " 3.354716414080205,\n",
       " 3.354826033289454,\n",
       " 3.353957885452677,\n",
       " 3.352961302221684,\n",
       " 3.354966875308106,\n",
       " 3.3532987654304147,\n",
       " 3.355699070064058,\n",
       " 3.354652335418273,\n",
       " 3.3551211988524074,\n",
       " 3.3560388022894374,\n",
       " 3.355926941421144,\n",
       " 3.353671583780821,\n",
       " 3.3562017639221184,\n",
       " 3.3544937640943706,\n",
       " 3.3518442312311305,\n",
       " 3.3535602851809796,\n",
       " 3.3528058074402733,\n",
       " 3.3556748840223203,\n",
       " 3.35390550527291,\n",
       " 3.3509794262731227,\n",
       " 3.35037978438048,\n",
       " 3.3525124032717932,\n",
       " 3.3527995395408783,\n",
       " 3.352728732447037,\n",
       " 3.351050287119149,\n",
       " 3.3511053248314684,\n",
       " 3.3503683421338115,\n",
       " 3.3484879134862107,\n",
       " 3.346548051122111,\n",
       " 3.346880297913677,\n",
       " 3.349323112488763,\n",
       " 3.3486835945424405,\n",
       " 3.348648483546024,\n",
       " 3.3495693622731784,\n",
       " 3.3462968344092703,\n",
       " 3.346011087126157,\n",
       " 3.3451987128193594,\n",
       " 3.3451769993238383,\n",
       " 3.3438157520939926,\n",
       " 3.343607281480015,\n",
       " 3.345282893717402,\n",
       " 3.343790329401414,\n",
       " 3.3414585745678824,\n",
       " 3.340238273034221,\n",
       " 3.3397590254377376,\n",
       " 3.3424947703212022,\n",
       " 3.344384153165107,\n",
       " 3.342654515880224,\n",
       " 3.34321396451617,\n",
       " 3.3459693231004155,\n",
       " 3.3480389218561144,\n",
       " 3.3490595859112897,\n",
       " 3.3504668249969143,\n",
       " 3.352366918447627,\n",
       " 3.3549218000303727,\n",
       " 3.3576291019110394,\n",
       " 3.359937988571388,\n",
       " 3.3616177238761002,\n",
       " 3.3634187857542215,\n",
       " 3.3646494603302273,\n",
       " 3.3670675557436804,\n",
       " 3.3692807430431593,\n",
       " 3.3711312276580325,\n",
       " 3.3722148863950427,\n",
       " 3.37408777552427,\n",
       " 3.3760657379887817,\n",
       " 3.377436306044814,\n",
       " 3.3781599053358704,\n",
       " 3.380741455141268,\n",
       " 3.382527807717355,\n",
       " 3.383904064720384,\n",
       " 3.386170184296647,\n",
       " 3.388257073286942,\n",
       " 3.3905550544248437,\n",
       " 3.392754087004425,\n",
       " 3.3923754289487107,\n",
       " 3.395022205969633,\n",
       " 3.395629007536995,\n",
       " 3.3973102016187937,\n",
       " 3.399110787266339,\n",
       " 3.4003202121978697,\n",
       " 3.4020046360444933,\n",
       " 3.402910873971461,\n",
       " 3.404385360624247,\n",
       " 3.406187471088951,\n",
       " 3.406529264544694,\n",
       " 3.4063015649406663,\n",
       " 3.4082951809223565,\n",
       " 3.4059662189199913,\n",
       " 3.4050345065101366,\n",
       " 3.4029808470547533,\n",
       " 3.402485560760297,\n",
       " 3.4013371202507527,\n",
       " 3.401586899693156,\n",
       " 3.4017611454901284,\n",
       " 3.4009533871414908,\n",
       " 3.3982709246947365,\n",
       " 3.398496048287219,\n",
       " 3.399038269704962,\n",
       " 3.3994895458403613,\n",
       " 3.3985402115045824,\n",
       " 3.399753074363534,\n",
       " 3.399718324886679,\n",
       " 3.398155234372555,\n",
       " 3.398354769920078,\n",
       " 3.3982973871930016,\n",
       " 3.398730481832234,\n",
       " 3.4000477667177296,\n",
       " 3.401174647690412,\n",
       " 3.399640970526526,\n",
       " 3.4025323980031823,\n",
       " 3.4022207203416968,\n",
       " 3.4020177278244024,\n",
       " 3.4021964573385377,\n",
       " 3.4023514338032688,\n",
       " 3.4031185100344894,\n",
       " 3.403815462030685,\n",
       " 3.404456508166897,\n",
       " 3.4038598168470857,\n",
       " 3.4049764196095205,\n",
       " 3.4057940110322464,\n",
       " 3.4058018051174916,\n",
       " 3.4070205159810536,\n",
       " 3.4082439178072974,\n",
       " 3.4085571167482818,\n",
       " 3.410109508913809,\n",
       " 3.4117214025845715,\n",
       " 3.411621929895674,\n",
       " 3.4134606930269302,\n",
       " 3.41478474474642,\n",
       " 3.4127774167438107,\n",
       " 3.412266358879973,\n",
       " 3.412250550231414,\n",
       " 3.412315436760712,\n",
       " 3.412898811141231,\n",
       " 3.4143567085985733,\n",
       " 3.4151604454342452,\n",
       " 3.4135553563006584,\n",
       " 3.413300014171059,\n",
       " 3.414857156996068,\n",
       " 3.417255670215534,\n",
       " 3.417526057048088,\n",
       " 3.4180583095183543,\n",
       " 3.4186637964632567,\n",
       " 3.418791919008435,\n",
       " 3.4188588676207607,\n",
       " 3.4203589797263154,\n",
       " 3.4196797495162,\n",
       " 3.421328827197014,\n",
       " 3.422390182347353,\n",
       " 3.4237470940804657,\n",
       " 3.4235907896265805,\n",
       " 3.425216723362827,\n",
       " 3.424581881413378,\n",
       " 3.4254782661763605,\n",
       " 3.4279206915603653,\n",
       " 3.428361104088901,\n",
       " 3.428977117176095,\n",
       " 3.430109775617017,\n",
       " 3.430450007170427,\n",
       " 3.430944900897528,\n",
       " 3.432173961586734,\n",
       " 3.4338352408048594,\n",
       " 3.43417303403089,\n",
       " 3.4358500013622106,\n",
       " 3.4375556638136775,\n",
       " 3.439200844019204,\n",
       " 3.4407760364662736,\n",
       " 3.441889886844613,\n",
       " 3.443384458917837,\n",
       " 3.4448796672824553,\n",
       " 3.446687532679322,\n",
       " 3.4478460681237393,\n",
       " 3.4492625809385786,\n",
       " 3.4508809918362378,\n",
       " 3.4526727624100726,\n",
       " 3.45410598906202,\n",
       " 3.4550047560673502,\n",
       " 3.456617593381099,\n",
       " 3.4582670370539037,\n",
       " 3.4593270184753515,\n",
       " 3.460527616131251,\n",
       " 3.460515256293263,\n",
       " 3.4625210667613873,\n",
       " 3.463626990492331,\n",
       " 3.4648025912886777,\n",
       " 3.4655089872276834,\n",
       " 3.467133079119817,\n",
       " 3.46842064266383,\n",
       " 3.46968513364473,\n",
       " 3.4707630093893544,\n",
       " 3.4722101645961017,\n",
       " 3.4734050832912513,\n",
       " 3.4748476992846022,\n",
       " 3.4756457677440533,\n",
       " 3.476426432926935,\n",
       " 3.4779044922985682,\n",
       " 3.4789038069432605,\n",
       " 3.480522922406297,\n",
       " 3.4820033601304803,\n",
       " 3.482829940219634,\n",
       " 3.4839575148911655,\n",
       " 3.4853201620983594,\n",
       " 3.4862774489060855,\n",
       " 3.4875023168056005,\n",
       " 3.488956947344445,\n",
       " 3.4898828240732587,\n",
       " 3.49100936300286,\n",
       " 3.492526415001586,\n",
       " 3.493659295933928,\n",
       " 3.4948869578993347,\n",
       " 3.496010820693739,\n",
       " 3.4974035319507153,\n",
       " 3.498029932859549,\n",
       " 3.498336560896643,\n",
       " 3.498928458895077,\n",
       " 3.4992880278647487,\n",
       " 3.5004118829311737,\n",
       " 3.5013831956668726,\n",
       " 3.5018283974666162,\n",
       " 3.5028672657608544,\n",
       " 3.504062370370765,\n",
       " 3.5046759562962957,\n",
       " 3.5055128705586953,\n",
       " 3.5066641980122166,\n",
       " 3.508074702380315,\n",
       " 3.5087778001879806,\n",
       " 3.5097782423348964,\n",
       " 3.509759792821057,\n",
       " 3.510911303797311,\n",
       " 3.511916084326742,\n",
       " 3.5123507441002184,\n",
       " 3.5127567664271218,\n",
       " 3.514175781489055,\n",
       " 3.5153153789116502,\n",
       " 3.516204463165425,\n",
       " 3.5173515428497515,\n",
       " 3.5178444321356044,\n",
       " 3.5191271763645933,\n",
       " 3.520280096820217,\n",
       " 3.520670183942455,\n",
       " 3.521444596993368,\n",
       " 3.5223521464752765,\n",
       " 3.5229783560480485,\n",
       " 3.522661545872137,\n",
       " 3.5236190724270844,\n",
       " 3.524397139813167,\n",
       " 3.524959865120125,\n",
       " 3.5244186157785844,\n",
       " 3.5247479510547413,\n",
       " 3.5250201467955846,\n",
       " 3.525446637606473,\n",
       " 3.52633546523328,\n",
       " 3.526842414498972,\n",
       " 3.526826253938465,\n",
       " 3.527728561857258,\n",
       " 3.5284737586766832,\n",
       " 3.529064724277283,\n",
       " 3.528385923287882,\n",
       " 3.5281803217815946,\n",
       " 3.526588067353751,\n",
       " 3.5267224983660403,\n",
       " 3.5266139784068438,\n",
       " 3.5247969625158584,\n",
       " 3.5252478512746643,\n",
       " 3.5260221684933786,\n",
       " 3.525707379855577,\n",
       " 3.5247834653039853,\n",
       " 3.5247948101016977,\n",
       " 3.525308622725306,\n",
       " 3.5259271756211024,\n",
       " 3.5267545278451493,\n",
       " 3.527300993009034,\n",
       " 3.526142401910081,\n",
       " 3.5253582451100747,\n",
       " 3.5251486324923897,\n",
       " 3.5243169643469776,\n",
       " 3.5240076744176014,\n",
       " 3.5225295002663066,\n",
       " 3.5229487765692182,\n",
       " 3.5225002473344,\n",
       " 3.522421763524301,\n",
       " 3.5215700139292245,\n",
       " 3.520849381426782,\n",
       " 3.5199605599567705,\n",
       " 3.5193127666388757,\n",
       " 3.516863165621499,\n",
       " 3.515738044231083,\n",
       " 3.5165681399281397,\n",
       " 3.515047122870433,\n",
       " 3.514334244716622,\n",
       " 3.5144687867104536,\n",
       " 3.515271666379872,\n",
       " 3.5152094633600153,\n",
       " 3.5142367694130483,\n",
       " 3.5137104096652876,\n",
       " 3.514244896159715,\n",
       " 3.512551665949098,\n",
       " 3.513364079839183,\n",
       " 3.5132031856408927,\n",
       " 3.5133058381564393,\n",
       " 3.5115735730848696,\n",
       " 3.5101057360433385,\n",
       " 3.510045535174716,\n",
       " 3.510647770265187,\n",
       " 3.5099437926096146,\n",
       " 3.5085568236524725,\n",
       " 3.508156411597793,\n",
       " 3.5085371135712142,\n",
       " 3.506291330466128,\n",
       " 3.5063438961654665,\n",
       " 3.505871339510493,\n",
       " 3.5056396864553236,\n",
       " 3.5049653277633785,\n",
       " 3.5042004226595154,\n",
       " 3.5031131178145785,\n",
       " 3.500561034979807,\n",
       " 3.5007381084152605,\n",
       " 3.4998748489522997,\n",
       " 3.497620622142392,\n",
       " 3.497680717605186,\n",
       " 3.4974374963026964,\n",
       " 3.4978353363008843,\n",
       " 3.498331107455111,\n",
       " 3.4970558181460767,\n",
       " 3.4958702926678273,\n",
       " 3.4951346684837774,\n",
       " 3.4921301032841128,\n",
       " 3.4901017788571314,\n",
       " 3.490040782223801,\n",
       " 3.490056540479777,\n",
       " 3.48986708286469,\n",
       " 3.489863946752725,\n",
       " 3.4901199704970356,\n",
       " 3.4890277292626917,\n",
       " 3.488665149650237,\n",
       " 3.488016771672729,\n",
       " 3.4876931930003146,\n",
       " 3.4868374223862526,\n",
       " 3.4855079028265474,\n",
       " 3.4846610999640704,\n",
       " 3.4830699294532996,\n",
       " 3.4828552674296245,\n",
       " 3.4834589371269775,\n",
       " 3.482383089760623,\n",
       " 3.4816375208429093,\n",
       " 3.480932833310744,\n",
       " 3.481827937835848,\n",
       " 3.4817460047446716,\n",
       " 3.4811832376335197,\n",
       " 3.481520838037914,\n",
       " 3.4821346697425675,\n",
       " 3.4822796061449846,\n",
       " 3.482701970977478,\n",
       " 3.4806084847412313,\n",
       " 3.4805036996896965,\n",
       " 3.4812225213802783,\n",
       " 3.481697324302401,\n",
       " 3.4809201313867915,\n",
       " 3.4807598891305327,\n",
       " 3.481660437752576,\n",
       " 3.4819143435779867,\n",
       " 3.4816874394460924,\n",
       " 3.4817149771311358,\n",
       " 3.4818925822705786,\n",
       " 3.4823874959403383,\n",
       " 3.4819980269677058,\n",
       " 3.481800720499892,\n",
       " 3.480965528711418,\n",
       " 3.480993896030775,\n",
       " 3.480278131304538,\n",
       " 3.4811662978024476,\n",
       " 3.480606951168714,\n",
       " 3.4797754665576646,\n",
       " 3.4809148519621647,\n",
       " 3.480816433738122,\n",
       " 3.4802055933737104,\n",
       " 3.4790452135488708,\n",
       " 3.479367083332867,\n",
       " 3.4800207708784683,\n",
       " 3.4797834703613173,\n",
       " 3.4795769201520317,\n",
       " 3.480078878845767,\n",
       " 3.480244822088328,\n",
       " 3.4802736197237674,\n",
       " 3.4771727847605605,\n",
       " 3.4763753990684236,\n",
       " 3.4752606790891276,\n",
       " 3.475180073550075,\n",
       " 3.4741463390951806,\n",
       " 3.4744697066205723,\n",
       " 3.473816415745845,\n",
       " 3.4737433040849393,\n",
       " 3.473781083503522,\n",
       " 3.473123537452882,\n",
       " 3.473162097657397,\n",
       " 3.471693779268302,\n",
       " 3.4710189669946705,\n",
       " 3.4717746541846783,\n",
       " 3.47164709111334,\n",
       " 3.472352247203872,\n",
       " 3.471739607686749,\n",
       " 3.472134863925831,\n",
       " 3.471564129993823,\n",
       " 3.469415378328882,\n",
       " 3.4691344984915475,\n",
       " 3.4698382510421917,\n",
       " 3.469351878332682,\n",
       " 3.4690869461096785,\n",
       " 3.4682074286046016,\n",
       " 3.468017998695513,\n",
       " 3.468156355873593,\n",
       " 3.468117588134941,\n",
       " 3.466916549550137,\n",
       " 3.467464675877581,\n",
       " 3.46739382788705,\n",
       " 3.466818554904042,\n",
       " 3.465958563657283,\n",
       " 3.4650799175040548,\n",
       " 3.465615262736071,\n",
       " 3.4659069181563673,\n",
       " 3.4671297301644497,\n",
       " 3.4678029563030983,\n",
       " 3.468795641880611,\n",
       " 3.4689804153442334,\n",
       " 3.4699609349679936,\n",
       " 3.470626573044337,\n",
       " 3.4711768724939263,\n",
       " 3.4716658425316056,\n",
       " 3.47224202762097,\n",
       " 3.4729630084575533,\n",
       " 3.473734493491665,\n",
       " 3.474172804189162,\n",
       " 3.4744347006006966,\n",
       " 3.474730723687255,\n",
       " 3.475181959702152,\n",
       " 3.4755396134624235,\n",
       " 3.475388188225853,\n",
       " 3.4752605722700785,\n",
       " 3.47572773556179,\n",
       " 3.476136136271204,\n",
       " 3.474620475253342,\n",
       " 3.473870537338575,\n",
       " 3.4730666842683218,\n",
       " 3.4734006729250964,\n",
       " 3.4723764863928452,\n",
       " 3.4723138599603596,\n",
       " 3.4727538772267046,\n",
       " 3.473021316501513,\n",
       " 3.4726322748867706,\n",
       " 3.4719170492668354,\n",
       " 3.4717923902113523,\n",
       " 3.4716087575099226,\n",
       " 3.471739309405401,\n",
       " 3.4712475907421667,\n",
       " 3.471250809526558,\n",
       " 3.4717599019376615,\n",
       " 3.4718046808895706,\n",
       " 3.4716698302328974,\n",
       " 3.471175176179028,\n",
       " 3.4710403282478635,\n",
       " 3.4719793317495045,\n",
       " 3.472670458278628,\n",
       " 3.472617859552032,\n",
       " 3.472465036700861,\n",
       " 3.4733435393854037,\n",
       " 3.47299847401294,\n",
       " 3.4720724286178877,\n",
       " 3.4702255813079943,\n",
       " 3.4693009734738416,\n",
       " 3.4691464385341093,\n",
       " 3.4685395220547637,\n",
       " 3.4680264588110603,\n",
       " 3.4685047597382965,\n",
       " 3.46884272941746,\n",
       " 3.469710186835014,\n",
       " 3.4693332721838583,\n",
       " 3.4699447213516748,\n",
       " 3.4704065725797433,\n",
       " 3.470316423319078,\n",
       " 3.470258951082517,\n",
       " 3.4692162782891116,\n",
       " 3.469557637762293,\n",
       " 3.4695095620222367,\n",
       " 3.4696414464620395,\n",
       " 3.4684093734678054,\n",
       " 3.4684494630953844,\n",
       " 3.4680994735253114,\n",
       " 3.467831512490989,\n",
       " 3.4677572512983215,\n",
       " 3.467040386082035,\n",
       " 3.466599789200247,\n",
       " 3.4664403436219087,\n",
       " 3.466456351575424,\n",
       " 3.4663356405437593,\n",
       " 3.466133908944025,\n",
       " 3.4658630644466015,\n",
       " 3.4661795687464183,\n",
       " 3.466395455396596,\n",
       " 3.4659796475038824,\n",
       " 3.466289256065955,\n",
       " 3.4666218140700242,\n",
       " 3.4653630126278294,\n",
       " 3.464412251121459,\n",
       " 3.464195205753083,\n",
       " 3.4643870922627418,\n",
       " 3.4635235768845285,\n",
       " 3.46335234873016,\n",
       " 3.4629206006004143,\n",
       " 3.46330260636136,\n",
       " 3.462072289991809,\n",
       " 3.462177513555926,\n",
       " 3.462899654202663,\n",
       " 3.462915961959703,\n",
       " 3.4630154738286976,\n",
       " 3.4626527457905554,\n",
       " 3.4617204074705175,\n",
       " 3.4612505694600815,\n",
       " 3.461422264883089,\n",
       " 3.4611555194233343,\n",
       " 3.4608606221977585,\n",
       " 3.4613855268401155,\n",
       " 3.4599981436985394,\n",
       " 3.4608610247364804,\n",
       " 3.4610069500683216,\n",
       " 3.460887315262335,\n",
       " 3.460901373423283,\n",
       " 3.4614310460729536,\n",
       " 3.4620558279451545,\n",
       " 3.461905941268927,\n",
       " 3.46247872443863,\n",
       " 3.4629572747227506,\n",
       " 3.462912872625872,\n",
       " 3.4628717451479623,\n",
       " 3.462562742408007,\n",
       " 3.462010098749216,\n",
       " 3.462560297823593,\n",
       " 3.4622256826674485,\n",
       " 3.4609313663785586,\n",
       " 3.4613220231179542,\n",
       " 3.4610851855155635,\n",
       " 3.4611589347782417,\n",
       " 3.459901637462154,\n",
       " 3.4604619116584514,\n",
       " 3.4610374512676643,\n",
       " 3.4613195794243734,\n",
       " 3.461063830444444,\n",
       " 3.459460692834969,\n",
       " 3.459676453364407,\n",
       " 3.460275772420027,\n",
       " 3.4604691107153087,\n",
       " 3.4602372733808315,\n",
       " 3.4603871539671744,\n",
       " 3.460823348329006,\n",
       " 3.4614875871331847,\n",
       " 3.462261813986005,\n",
       " 3.4622866913093047,\n",
       " 3.463084643092096,\n",
       " 3.4626803407342965,\n",
       " 3.4635565009234157,\n",
       " 3.4627956375902014,\n",
       " 3.4624662931996815,\n",
       " 3.462711023234726,\n",
       " 3.461084253907929,\n",
       " 3.4606095607740865,\n",
       " 3.460288002090169,\n",
       " 3.4607254583089597,\n",
       " 3.4607620657371805,\n",
       " 3.460825907440731,\n",
       " 3.461069594025847,\n",
       " 3.4622132451030345,\n",
       " 3.4613974223709576,\n",
       " 3.4616017731462767,\n",
       " 3.460747697650436,\n",
       " 3.459841212455249,\n",
       " 3.4594118990240954,\n",
       " 3.45880729712153,\n",
       " 3.458529115571091,\n",
       " 3.458033886204223,\n",
       " 3.4568991523190116,\n",
       " 3.455587475275566,\n",
       " 3.4548176843284426,\n",
       " 3.4547980941877996,\n",
       " 3.455183016731604,\n",
       " 3.454840276477409,\n",
       " 3.4548911893562395,\n",
       " 3.4549922610541977,\n",
       " 3.4553546701115527,\n",
       " 3.456032725009643,\n",
       " 3.455136947245146,\n",
       " 3.4552432959589963,\n",
       " 3.4535203658030134,\n",
       " 3.4528000117132156,\n",
       " 3.4528010214249374,\n",
       " 3.4525941473613666,\n",
       " 3.4523039729410168,\n",
       " 3.4514986975442747,\n",
       " 3.45067044154225,\n",
       " 3.4489932260189677,\n",
       " 3.4489265175426858,\n",
       " 3.448831960831038,\n",
       " 3.4482310948721997,\n",
       " 3.4483611373266374,\n",
       " 3.447618044433421,\n",
       " 3.445744293832501,\n",
       " 3.4458776150814914,\n",
       " 3.4455187190296392,\n",
       " 3.4453586324300467,\n",
       " 3.4442958876356897,\n",
       " 3.4442147399767817,\n",
       " 3.4437775029213844,\n",
       " 3.443583515148926,\n",
       " 3.442175053972614,\n",
       " 3.442112147230147,\n",
       " 3.4420484013600627,\n",
       " 3.441859941564938,\n",
       " 3.44172875270858,\n",
       " 3.442064194762216,\n",
       " 3.4410402119418224,\n",
       " 3.440751827994536,\n",
       " 3.4397088939800806,\n",
       " 3.4397742147883363,\n",
       " 3.4401099569801237,\n",
       " 3.4397796925775674,\n",
       " 3.439137195702437,\n",
       " 3.439118948697604,\n",
       " 3.438762889110833,\n",
       " 3.4390979129115746,\n",
       " 3.4397982651900727,\n",
       " 3.439266198787553,\n",
       " 3.4386339389176097,\n",
       " 3.4381102155104095,\n",
       " 3.437694679947765,\n",
       " 3.437672190093988,\n",
       " 3.437449427782634,\n",
       " 3.4378401663106906,\n",
       " 3.43713647506492,\n",
       " 3.4364490737780207,\n",
       " 3.4359847662527248,\n",
       " 3.4356231933670696,\n",
       " 3.43539960186668,\n",
       " 3.436053726155231,\n",
       " 3.4368276805413656,\n",
       " 3.436337581631297,\n",
       " 3.4371368506181192,\n",
       " 3.43723256437436,\n",
       " 3.437785629666727,\n",
       " 3.437280411230127,\n",
       " 3.4377411686919905,\n",
       " 3.438069516569286,\n",
       " 3.438440942147119,\n",
       " 3.4378129873284964,\n",
       " 3.4380466364882305,\n",
       " 3.438492280181579,\n",
       " 3.438021443165723,\n",
       " 3.437110936607208,\n",
       " 3.4365342189120183,\n",
       " 3.436204871087472,\n",
       " 3.435892536467968,\n",
       " 3.4355504452303767,\n",
       " 3.435728207113764,\n",
       " 3.435296929809664,\n",
       " 3.4340673686791563,\n",
       " 3.432257454307468,\n",
       " 3.4327510707202875,\n",
       " 3.4326564675874534,\n",
       " 3.432381684735262,\n",
       " 3.4327293102094583,\n",
       " 3.4327526378719817,\n",
       " 3.4322640495047945,\n",
       " 3.4320233942146023,\n",
       " 3.432634177765742,\n",
       " 3.4326605629357294,\n",
       " 3.43214843244383,\n",
       " 3.4324228705253415,\n",
       " 3.4330038092453776,\n",
       " 3.432763433843967,\n",
       " 3.432128660933725,\n",
       " 3.432567144040184,\n",
       " 3.4313183978890844,\n",
       " 3.4312865054268755,\n",
       " 3.431232949243022,\n",
       " 3.4310718662384327,\n",
       " 3.4304280115518964,\n",
       " 3.430460299725721,\n",
       " 3.4296864459941516,\n",
       " 3.4300359536399068,\n",
       " 3.4296011346776822,\n",
       " 3.429369214339624,\n",
       " 3.428043296479932,\n",
       " 3.4266997428496477,\n",
       " 3.4260443171961894,\n",
       " 3.4257059864844663,\n",
       " 3.4251106370843147,\n",
       " 3.425263059212667,\n",
       " 3.4258395255524734,\n",
       " 3.425663333643102,\n",
       " 3.4249557126885044,\n",
       " 3.425447423642483,\n",
       " ...]"
      ]
     },
     "execution_count": 73,
     "metadata": {},
     "output_type": "execute_result"
    }
   ],
   "source": [
    "medias = list()\n",
    "for i in range(1, len(nota_media_dos_filmes_com_pelo_menos_10_votos)):\n",
    "    medias.append(nota_media_dos_filmes_com_pelo_menos_10_votos[0:i].mean())\n",
    "medias"
   ]
  },
  {
   "cell_type": "code",
   "execution_count": 74,
   "id": "2e8247e5-26a0-424a-a632-34c2c24417fd",
   "metadata": {},
   "outputs": [
    {
     "data": {
      "text/plain": [
       "[<matplotlib.lines.Line2D at 0x1f0a9181270>]"
      ]
     },
     "execution_count": 74,
     "metadata": {},
     "output_type": "execute_result"
    },
    {
     "data": {
      "image/png": "[encoded data removed]",
      "text/plain": [
       "<Figure size 432x288 with 1 Axes>"
      ]
     },
     "metadata": {
      "needs_background": "light"
     },
     "output_type": "display_data"
    }
   ],
   "source": [
    "import matplotlib.pyplot as plt\n",
    "\n",
    "medias = list()\n",
    "for i in range(1, len(nota_media_dos_filmes_com_pelo_menos_10_votos)):\n",
    "    medias.append(nota_media_dos_filmes_com_pelo_menos_10_votos[0:i].mean())\n",
    "plt.plot(medias)"
   ]
  },
  {
   "cell_type": "code",
   "execution_count": 75,
   "id": "269b7e2d-7e79-40af-b4bf-2c160ff98f4d",
   "metadata": {},
   "outputs": [
    {
     "data": {
      "text/plain": [
       "[<matplotlib.lines.Line2D at 0x1f0a9327c70>]"
      ]
     },
     "execution_count": 75,
     "metadata": {},
     "output_type": "execute_result"
    },
    {
     "data": {
      "image/png": "[encoded data removed]",
      "text/plain": [
       "<Figure size 432x288 with 1 Axes>"
      ]
     },
     "metadata": {
      "needs_background": "light"
     },
     "output_type": "display_data"
    }
   ],
   "source": [
    "import matplotlib.pyplot as plt\n",
    "import numpy as np\n",
    "\n",
    "np.random.seed(75243)\n",
    "temp = nota_media_dos_filmes_com_pelo_menos_10_votos.sample(frac=1)\n",
    "\n",
    "medias = list()\n",
    "for i in range(1, len(temp)):\n",
    "    medias.append(temp[0:i].mean())\n",
    "plt.plot(medias)"
   ]
  },
  {
   "cell_type": "code",
   "execution_count": 76,
   "id": "0367766b-2310-4f8b-95ec-303f8b050979",
   "metadata": {},
   "outputs": [
    {
     "data": {
      "text/plain": [
       "[<matplotlib.lines.Line2D at 0x1f0a8d95e40>]"
      ]
     },
     "execution_count": 76,
     "metadata": {},
     "output_type": "execute_result"
    },
    {
     "data": {
      "image/png": "[encoded data removed]",
      "text/plain": [
       "<Figure size 432x288 with 1 Axes>"
      ]
     },
     "metadata": {
      "needs_background": "light"
     },
     "output_type": "display_data"
    }
   ],
   "source": [
    "np.random.seed(75243)\n",
    "temp = nota_media_dos_filmes_com_pelo_menos_10_votos.sample(frac=1)\n",
    "\n",
    "medias = list()\n",
    "medias = [temp[0:i].mean() for i in range(1, len(temp))]\n",
    "\n",
    "plt.plot(medias)"
   ]
  },
  {
   "cell_type": "code",
   "execution_count": 77,
   "id": "5f8b4e57-5b05-497d-a04c-f8e7e8b51831",
   "metadata": {},
   "outputs": [
    {
     "data": {
      "text/plain": [
       "(3.4112459477469557, 3.452854733323563)"
      ]
     },
     "execution_count": 77,
     "metadata": {},
     "output_type": "execute_result"
    }
   ],
   "source": [
    "from statsmodels.stats.weightstats import zconfint\n",
    "\n",
    "zconfint(nota_media_dos_filmes_com_pelo_menos_10_votos)"
   ]
  },
  {
   "cell_type": "code",
   "execution_count": 78,
   "id": "ca0ed955-c5ec-4db8-b9e2-a7f6364b4c03",
   "metadata": {},
   "outputs": [
    {
     "data": {
      "text/plain": [
       "<statsmodels.stats.weightstats.DescrStatsW at 0x1f0a9327ac0>"
      ]
     },
     "execution_count": 78,
     "metadata": {},
     "output_type": "execute_result"
    }
   ],
   "source": [
    "from statsmodels.stats.weightstats import DescrStatsW\n",
    "\n",
    "descr_todos_com_10_votos = DescrStatsW(nota_media_dos_filmes_com_pelo_menos_10_votos)\n",
    "descr_todos_com_10_votos"
   ]
  },
  {
   "cell_type": "code",
   "execution_count": 79,
   "id": "cc8b64bf-77b3-4fbd-bd4c-b6dedcbacf48",
   "metadata": {},
   "outputs": [
    {
     "data": {
      "text/plain": [
       "(3.411234839229381, 3.4528658418411395)"
      ]
     },
     "execution_count": 79,
     "metadata": {},
     "output_type": "execute_result"
    }
   ],
   "source": [
    "descr_todos_com_10_votos.tconfint_mean()"
   ]
  },
  {
   "cell_type": "code",
   "execution_count": null,
   "id": "e9756438-64b0-49eb-b962-48b7d59b57bb",
   "metadata": {},
   "outputs": [],
   "source": []
  }
 ],
 "metadata": {
  "kernelspec": {
   "display_name": "Python 3 (ipykernel)",
   "language": "python",
   "name": "python3"
  },
  "language_info": {
   "codemirror_mode": {
    "name": "ipython",
    "version": 3
   },
   "file_extension": ".py",
   "mimetype": "text/x-python",
   "name": "python",
   "nbconvert_exporter": "python",
   "pygments_lexer": "ipython3",
   "version": "3.10.5"
  }
 },
 "nbformat": 4,
 "nbformat_minor": 5
}
